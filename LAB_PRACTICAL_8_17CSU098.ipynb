{
  "nbformat": 4,
  "nbformat_minor": 0,
  "metadata": {
    "kernelspec": {
      "display_name": "Python 3",
      "language": "python",
      "name": "python3"
    },
    "language_info": {
      "codemirror_mode": {
        "name": "ipython",
        "version": 3
      },
      "file_extension": ".py",
      "mimetype": "text/x-python",
      "name": "python",
      "nbconvert_exporter": "python",
      "pygments_lexer": "ipython3",
      "version": "3.8.3"
    },
    "colab": {
      "name": "LAB_EXPERIMENT_8_17CSU098.ipynb",
      "provenance": [],
      "collapsed_sections": []
    }
  },
  "cells": [
    {
      "cell_type": "markdown",
      "metadata": {
        "id": "TgGNssvB7VsG"
      },
      "source": [
        "# **TWIA LAB EXPERIMENT 8**\n",
        "## **SUBMITTED BY: -**\n",
        "\n",
        "\n",
        "##   **MAHIMA MUNJAL**\n",
        "##   **17CSU098**\n",
        "\n",
        "\n",
        "\n"
      ]
    },
    {
      "cell_type": "markdown",
      "metadata": {
        "id": "NLWl9yjXzeFM"
      },
      "source": [
        "## Importing Libraries"
      ]
    },
    {
      "cell_type": "code",
      "metadata": {
        "colab": {
          "base_uri": "https://localhost:8080/",
          "height": 368
        },
        "id": "keCDC-UA9wy5",
        "outputId": "73365f4d-7162-4390-a989-d51cbc06bcf0"
      },
      "source": [
        "pip install scikit-learn-extra"
      ],
      "execution_count": null,
      "outputs": [
        {
          "output_type": "stream",
          "text": [
            "Collecting scikit-learn-extra\n",
            "\u001b[?25l  Downloading https://files.pythonhosted.org/packages/82/1e/79cd1a2b60a6cd6a7a9c4719f947e264ae391644adce3ddecf73afd5233d/scikit_learn_extra-0.2.0-cp37-cp37m-manylinux2010_x86_64.whl (1.7MB)\n",
            "\r\u001b[K     |▏                               | 10kB 15.9MB/s eta 0:00:01\r\u001b[K     |▍                               | 20kB 14.3MB/s eta 0:00:01\r\u001b[K     |▋                               | 30kB 7.0MB/s eta 0:00:01\r\u001b[K     |▊                               | 40kB 6.5MB/s eta 0:00:01\r\u001b[K     |█                               | 51kB 5.6MB/s eta 0:00:01\r\u001b[K     |█▏                              | 61kB 6.1MB/s eta 0:00:01\r\u001b[K     |█▍                              | 71kB 6.2MB/s eta 0:00:01\r\u001b[K     |█▌                              | 81kB 6.8MB/s eta 0:00:01\r\u001b[K     |█▊                              | 92kB 5.6MB/s eta 0:00:01\r\u001b[K     |██                              | 102kB 5.3MB/s eta 0:00:01\r\u001b[K     |██                              | 112kB 5.3MB/s eta 0:00:01\r\u001b[K     |██▎                             | 122kB 5.3MB/s eta 0:00:01\r\u001b[K     |██▌                             | 133kB 5.3MB/s eta 0:00:01\r\u001b[K     |██▊                             | 143kB 5.3MB/s eta 0:00:01\r\u001b[K     |██▉                             | 153kB 5.3MB/s eta 0:00:01\r\u001b[K     |███                             | 163kB 5.3MB/s eta 0:00:01\r\u001b[K     |███▎                            | 174kB 5.3MB/s eta 0:00:01\r\u001b[K     |███▌                            | 184kB 5.3MB/s eta 0:00:01\r\u001b[K     |███▋                            | 194kB 5.3MB/s eta 0:00:01\r\u001b[K     |███▉                            | 204kB 5.3MB/s eta 0:00:01\r\u001b[K     |████                            | 215kB 5.3MB/s eta 0:00:01\r\u001b[K     |████▏                           | 225kB 5.3MB/s eta 0:00:01\r\u001b[K     |████▍                           | 235kB 5.3MB/s eta 0:00:01\r\u001b[K     |████▋                           | 245kB 5.3MB/s eta 0:00:01\r\u001b[K     |████▉                           | 256kB 5.3MB/s eta 0:00:01\r\u001b[K     |█████                           | 266kB 5.3MB/s eta 0:00:01\r\u001b[K     |█████▏                          | 276kB 5.3MB/s eta 0:00:01\r\u001b[K     |█████▍                          | 286kB 5.3MB/s eta 0:00:01\r\u001b[K     |█████▋                          | 296kB 5.3MB/s eta 0:00:01\r\u001b[K     |█████▊                          | 307kB 5.3MB/s eta 0:00:01\r\u001b[K     |██████                          | 317kB 5.3MB/s eta 0:00:01\r\u001b[K     |██████▏                         | 327kB 5.3MB/s eta 0:00:01\r\u001b[K     |██████▎                         | 337kB 5.3MB/s eta 0:00:01\r\u001b[K     |██████▌                         | 348kB 5.3MB/s eta 0:00:01\r\u001b[K     |██████▊                         | 358kB 5.3MB/s eta 0:00:01\r\u001b[K     |███████                         | 368kB 5.3MB/s eta 0:00:01\r\u001b[K     |███████                         | 378kB 5.3MB/s eta 0:00:01\r\u001b[K     |███████▎                        | 389kB 5.3MB/s eta 0:00:01\r\u001b[K     |███████▌                        | 399kB 5.3MB/s eta 0:00:01\r\u001b[K     |███████▋                        | 409kB 5.3MB/s eta 0:00:01\r\u001b[K     |███████▉                        | 419kB 5.3MB/s eta 0:00:01\r\u001b[K     |████████                        | 430kB 5.3MB/s eta 0:00:01\r\u001b[K     |████████▎                       | 440kB 5.3MB/s eta 0:00:01\r\u001b[K     |████████▍                       | 450kB 5.3MB/s eta 0:00:01\r\u001b[K     |████████▋                       | 460kB 5.3MB/s eta 0:00:01\r\u001b[K     |████████▉                       | 471kB 5.3MB/s eta 0:00:01\r\u001b[K     |█████████                       | 481kB 5.3MB/s eta 0:00:01\r\u001b[K     |█████████▏                      | 491kB 5.3MB/s eta 0:00:01\r\u001b[K     |█████████▍                      | 501kB 5.3MB/s eta 0:00:01\r\u001b[K     |█████████▋                      | 512kB 5.3MB/s eta 0:00:01\r\u001b[K     |█████████▊                      | 522kB 5.3MB/s eta 0:00:01\r\u001b[K     |██████████                      | 532kB 5.3MB/s eta 0:00:01\r\u001b[K     |██████████▏                     | 542kB 5.3MB/s eta 0:00:01\r\u001b[K     |██████████▍                     | 552kB 5.3MB/s eta 0:00:01\r\u001b[K     |██████████▌                     | 563kB 5.3MB/s eta 0:00:01\r\u001b[K     |██████████▊                     | 573kB 5.3MB/s eta 0:00:01\r\u001b[K     |███████████                     | 583kB 5.3MB/s eta 0:00:01\r\u001b[K     |███████████▏                    | 593kB 5.3MB/s eta 0:00:01\r\u001b[K     |███████████▎                    | 604kB 5.3MB/s eta 0:00:01\r\u001b[K     |███████████▌                    | 614kB 5.3MB/s eta 0:00:01\r\u001b[K     |███████████▊                    | 624kB 5.3MB/s eta 0:00:01\r\u001b[K     |███████████▉                    | 634kB 5.3MB/s eta 0:00:01\r\u001b[K     |████████████                    | 645kB 5.3MB/s eta 0:00:01\r\u001b[K     |████████████▎                   | 655kB 5.3MB/s eta 0:00:01\r\u001b[K     |████████████▌                   | 665kB 5.3MB/s eta 0:00:01\r\u001b[K     |████████████▋                   | 675kB 5.3MB/s eta 0:00:01\r\u001b[K     |████████████▉                   | 686kB 5.3MB/s eta 0:00:01\r\u001b[K     |█████████████                   | 696kB 5.3MB/s eta 0:00:01\r\u001b[K     |█████████████▏                  | 706kB 5.3MB/s eta 0:00:01\r\u001b[K     |█████████████▍                  | 716kB 5.3MB/s eta 0:00:01\r\u001b[K     |█████████████▋                  | 727kB 5.3MB/s eta 0:00:01\r\u001b[K     |█████████████▉                  | 737kB 5.3MB/s eta 0:00:01\r\u001b[K     |██████████████                  | 747kB 5.3MB/s eta 0:00:01\r\u001b[K     |██████████████▏                 | 757kB 5.3MB/s eta 0:00:01\r\u001b[K     |██████████████▍                 | 768kB 5.3MB/s eta 0:00:01\r\u001b[K     |██████████████▋                 | 778kB 5.3MB/s eta 0:00:01\r\u001b[K     |██████████████▊                 | 788kB 5.3MB/s eta 0:00:01\r\u001b[K     |███████████████                 | 798kB 5.3MB/s eta 0:00:01\r\u001b[K     |███████████████▏                | 808kB 5.3MB/s eta 0:00:01\r\u001b[K     |███████████████▎                | 819kB 5.3MB/s eta 0:00:01\r\u001b[K     |███████████████▌                | 829kB 5.3MB/s eta 0:00:01\r\u001b[K     |███████████████▊                | 839kB 5.3MB/s eta 0:00:01\r\u001b[K     |████████████████                | 849kB 5.3MB/s eta 0:00:01\r\u001b[K     |████████████████                | 860kB 5.3MB/s eta 0:00:01\r\u001b[K     |████████████████▎               | 870kB 5.3MB/s eta 0:00:01\r\u001b[K     |████████████████▌               | 880kB 5.3MB/s eta 0:00:01\r\u001b[K     |████████████████▊               | 890kB 5.3MB/s eta 0:00:01\r\u001b[K     |████████████████▉               | 901kB 5.3MB/s eta 0:00:01\r\u001b[K     |█████████████████               | 911kB 5.3MB/s eta 0:00:01\r\u001b[K     |█████████████████▎              | 921kB 5.3MB/s eta 0:00:01\r\u001b[K     |█████████████████▍              | 931kB 5.3MB/s eta 0:00:01\r\u001b[K     |█████████████████▋              | 942kB 5.3MB/s eta 0:00:01\r\u001b[K     |█████████████████▉              | 952kB 5.3MB/s eta 0:00:01\r\u001b[K     |██████████████████              | 962kB 5.3MB/s eta 0:00:01\r\u001b[K     |██████████████████▏             | 972kB 5.3MB/s eta 0:00:01\r\u001b[K     |██████████████████▍             | 983kB 5.3MB/s eta 0:00:01\r\u001b[K     |██████████████████▋             | 993kB 5.3MB/s eta 0:00:01\r\u001b[K     |██████████████████▊             | 1.0MB 5.3MB/s eta 0:00:01\r\u001b[K     |███████████████████             | 1.0MB 5.3MB/s eta 0:00:01\r\u001b[K     |███████████████████▏            | 1.0MB 5.3MB/s eta 0:00:01\r\u001b[K     |███████████████████▍            | 1.0MB 5.3MB/s eta 0:00:01\r\u001b[K     |███████████████████▌            | 1.0MB 5.3MB/s eta 0:00:01\r\u001b[K     |███████████████████▊            | 1.1MB 5.3MB/s eta 0:00:01\r\u001b[K     |████████████████████            | 1.1MB 5.3MB/s eta 0:00:01\r\u001b[K     |████████████████████▏           | 1.1MB 5.3MB/s eta 0:00:01\r\u001b[K     |████████████████████▎           | 1.1MB 5.3MB/s eta 0:00:01\r\u001b[K     |████████████████████▌           | 1.1MB 5.3MB/s eta 0:00:01\r\u001b[K     |████████████████████▊           | 1.1MB 5.3MB/s eta 0:00:01\r\u001b[K     |████████████████████▉           | 1.1MB 5.3MB/s eta 0:00:01\r\u001b[K     |█████████████████████           | 1.1MB 5.3MB/s eta 0:00:01\r\u001b[K     |█████████████████████▎          | 1.1MB 5.3MB/s eta 0:00:01\r\u001b[K     |█████████████████████▌          | 1.1MB 5.3MB/s eta 0:00:01\r\u001b[K     |█████████████████████▋          | 1.2MB 5.3MB/s eta 0:00:01\r\u001b[K     |█████████████████████▉          | 1.2MB 5.3MB/s eta 0:00:01\r\u001b[K     |██████████████████████          | 1.2MB 5.3MB/s eta 0:00:01\r\u001b[K     |██████████████████████▎         | 1.2MB 5.3MB/s eta 0:00:01\r\u001b[K     |██████████████████████▍         | 1.2MB 5.3MB/s eta 0:00:01\r\u001b[K     |██████████████████████▋         | 1.2MB 5.3MB/s eta 0:00:01\r\u001b[K     |██████████████████████▉         | 1.2MB 5.3MB/s eta 0:00:01\r\u001b[K     |███████████████████████         | 1.2MB 5.3MB/s eta 0:00:01\r\u001b[K     |███████████████████████▏        | 1.2MB 5.3MB/s eta 0:00:01\r\u001b[K     |███████████████████████▍        | 1.2MB 5.3MB/s eta 0:00:01\r\u001b[K     |███████████████████████▋        | 1.3MB 5.3MB/s eta 0:00:01\r\u001b[K     |███████████████████████▊        | 1.3MB 5.3MB/s eta 0:00:01\r\u001b[K     |████████████████████████        | 1.3MB 5.3MB/s eta 0:00:01\r\u001b[K     |████████████████████████▏       | 1.3MB 5.3MB/s eta 0:00:01\r\u001b[K     |████████████████████████▎       | 1.3MB 5.3MB/s eta 0:00:01\r\u001b[K     |████████████████████████▌       | 1.3MB 5.3MB/s eta 0:00:01\r\u001b[K     |████████████████████████▊       | 1.3MB 5.3MB/s eta 0:00:01\r\u001b[K     |█████████████████████████       | 1.3MB 5.3MB/s eta 0:00:01\r\u001b[K     |█████████████████████████       | 1.3MB 5.3MB/s eta 0:00:01\r\u001b[K     |█████████████████████████▎      | 1.4MB 5.3MB/s eta 0:00:01\r\u001b[K     |█████████████████████████▌      | 1.4MB 5.3MB/s eta 0:00:01\r\u001b[K     |█████████████████████████▊      | 1.4MB 5.3MB/s eta 0:00:01\r\u001b[K     |█████████████████████████▉      | 1.4MB 5.3MB/s eta 0:00:01\r\u001b[K     |██████████████████████████      | 1.4MB 5.3MB/s eta 0:00:01\r\u001b[K     |██████████████████████████▎     | 1.4MB 5.3MB/s eta 0:00:01\r\u001b[K     |██████████████████████████▍     | 1.4MB 5.3MB/s eta 0:00:01\r\u001b[K     |██████████████████████████▋     | 1.4MB 5.3MB/s eta 0:00:01\r\u001b[K     |██████████████████████████▉     | 1.4MB 5.3MB/s eta 0:00:01\r\u001b[K     |███████████████████████████     | 1.4MB 5.3MB/s eta 0:00:01\r\u001b[K     |███████████████████████████▏    | 1.5MB 5.3MB/s eta 0:00:01\r\u001b[K     |███████████████████████████▍    | 1.5MB 5.3MB/s eta 0:00:01\r\u001b[K     |███████████████████████████▋    | 1.5MB 5.3MB/s eta 0:00:01\r\u001b[K     |███████████████████████████▉    | 1.5MB 5.3MB/s eta 0:00:01\r\u001b[K     |████████████████████████████    | 1.5MB 5.3MB/s eta 0:00:01\r\u001b[K     |████████████████████████████▏   | 1.5MB 5.3MB/s eta 0:00:01\r\u001b[K     |████████████████████████████▍   | 1.5MB 5.3MB/s eta 0:00:01\r\u001b[K     |████████████████████████████▌   | 1.5MB 5.3MB/s eta 0:00:01\r\u001b[K     |████████████████████████████▊   | 1.5MB 5.3MB/s eta 0:00:01\r\u001b[K     |█████████████████████████████   | 1.5MB 5.3MB/s eta 0:00:01\r\u001b[K     |█████████████████████████████▏  | 1.6MB 5.3MB/s eta 0:00:01\r\u001b[K     |█████████████████████████████▎  | 1.6MB 5.3MB/s eta 0:00:01\r\u001b[K     |█████████████████████████████▌  | 1.6MB 5.3MB/s eta 0:00:01\r\u001b[K     |█████████████████████████████▊  | 1.6MB 5.3MB/s eta 0:00:01\r\u001b[K     |█████████████████████████████▉  | 1.6MB 5.3MB/s eta 0:00:01\r\u001b[K     |██████████████████████████████  | 1.6MB 5.3MB/s eta 0:00:01\r\u001b[K     |██████████████████████████████▎ | 1.6MB 5.3MB/s eta 0:00:01\r\u001b[K     |██████████████████████████████▌ | 1.6MB 5.3MB/s eta 0:00:01\r\u001b[K     |██████████████████████████████▋ | 1.6MB 5.3MB/s eta 0:00:01\r\u001b[K     |██████████████████████████████▉ | 1.6MB 5.3MB/s eta 0:00:01\r\u001b[K     |███████████████████████████████ | 1.7MB 5.3MB/s eta 0:00:01\r\u001b[K     |███████████████████████████████▎| 1.7MB 5.3MB/s eta 0:00:01\r\u001b[K     |███████████████████████████████▍| 1.7MB 5.3MB/s eta 0:00:01\r\u001b[K     |███████████████████████████████▋| 1.7MB 5.3MB/s eta 0:00:01\r\u001b[K     |███████████████████████████████▉| 1.7MB 5.3MB/s eta 0:00:01\r\u001b[K     |████████████████████████████████| 1.7MB 5.3MB/s eta 0:00:01\r\u001b[K     |████████████████████████████████| 1.7MB 5.3MB/s \n",
            "\u001b[?25hRequirement already satisfied: numpy>=1.13.3 in /usr/local/lib/python3.7/dist-packages (from scikit-learn-extra) (1.19.5)\n",
            "Requirement already satisfied: scipy>=0.19.1 in /usr/local/lib/python3.7/dist-packages (from scikit-learn-extra) (1.4.1)\n",
            "Collecting scikit-learn>=0.23.0\n",
            "\u001b[?25l  Downloading https://files.pythonhosted.org/packages/a8/eb/a48f25c967526b66d5f1fa7a984594f0bf0a5afafa94a8c4dbc317744620/scikit_learn-0.24.2-cp37-cp37m-manylinux2010_x86_64.whl (22.3MB)\n",
            "\u001b[K     |████████████████████████████████| 22.3MB 2.2MB/s \n",
            "\u001b[?25hCollecting threadpoolctl>=2.0.0\n",
            "  Downloading https://files.pythonhosted.org/packages/f7/12/ec3f2e203afa394a149911729357aa48affc59c20e2c1c8297a60f33f133/threadpoolctl-2.1.0-py3-none-any.whl\n",
            "Requirement already satisfied: joblib>=0.11 in /usr/local/lib/python3.7/dist-packages (from scikit-learn>=0.23.0->scikit-learn-extra) (1.0.1)\n",
            "Installing collected packages: threadpoolctl, scikit-learn, scikit-learn-extra\n",
            "  Found existing installation: scikit-learn 0.22.2.post1\n",
            "    Uninstalling scikit-learn-0.22.2.post1:\n",
            "      Successfully uninstalled scikit-learn-0.22.2.post1\n",
            "Successfully installed scikit-learn-0.24.2 scikit-learn-extra-0.2.0 threadpoolctl-2.1.0\n"
          ],
          "name": "stdout"
        },
        {
          "output_type": "display_data",
          "data": {
            "application/vnd.colab-display-data+json": {
              "pip_warning": {
                "packages": [
                  "sklearn"
                ]
              }
            }
          },
          "metadata": {
            "tags": []
          }
        }
      ]
    },
    {
      "cell_type": "code",
      "metadata": {
        "id": "vt3ZDI9EzeFR"
      },
      "source": [
        "import numpy as np\n",
        "from sklearn.datasets import fetch_20newsgroups\n",
        "from sklearn.feature_extraction.text import CountVectorizer\n",
        "from sklearn.feature_extraction.text import TfidfTransformer\n",
        "from sklearn.neighbors import KNeighborsClassifier\n",
        "from sklearn.pipeline import Pipeline\n",
        "from sklearn.naive_bayes import GaussianNB\n",
        "from sklearn.naive_bayes import MultinomialNB\n",
        "from sklearn.datasets.samples_generator import make_blobs\n",
        "from sklearn.cluster import KMeans\n",
        "import matplotlib.pyplot as plt\n",
        "from sklearn.feature_extraction.text import TfidfVectorizer\n",
        "from sklearn import metrics\n",
        "from sklearn_extra.cluster import KMedoids\n",
        "import pandas as pd\n",
        "from sklearn.cluster import AgglomerativeClustering\n",
        "import scipy.cluster.hierarchy as shc\n",
        "from sklearn.preprocessing import normalize"
      ],
      "execution_count": null,
      "outputs": []
    },
    {
      "cell_type": "markdown",
      "metadata": {
        "id": "Ua3eFBpDzeFT"
      },
      "source": [
        "## Data"
      ]
    },
    {
      "cell_type": "code",
      "metadata": {
        "colab": {
          "base_uri": "https://localhost:8080/"
        },
        "id": "U0Y8DAi2zeFT",
        "outputId": "207b736e-1132-4f36-c1f4-35ca9d0c4405"
      },
      "source": [
        "categories = ['rec.motorcycles', 'sci.electronics', 'comp.graphics', 'sci.med']\n",
        "\n",
        "# sklearn provides us with subset data for training and testing\n",
        "train_data = fetch_20newsgroups(subset='train',\n",
        "                                categories=categories, shuffle=True, random_state=42)\n",
        "\n",
        "print(train_data.target_names)\n",
        "\n",
        "print(\"\\n\".join(train_data.data[0].split(\"\\n\")[:3]))\n",
        "print(train_data.target_names[train_data.target[0]])\n",
        "\n",
        "# Let's look at categories of our first ten training data\n",
        "for t in train_data.target[:10]:\n",
        "    print(train_data.target_names[t])"
      ],
      "execution_count": null,
      "outputs": [
        {
          "output_type": "stream",
          "text": [
            "Downloading 20news dataset. This may take a few minutes.\n",
            "Downloading dataset from https://ndownloader.figshare.com/files/5975967 (14 MB)\n"
          ],
          "name": "stderr"
        },
        {
          "output_type": "stream",
          "text": [
            "['comp.graphics', 'rec.motorcycles', 'sci.electronics', 'sci.med']\n",
            "From: kreyling@lds.loral.com (Ed Kreyling 6966)\n",
            "Subject: Sun-os and 8bit ASCII graphics\n",
            "Organization: Loral Data Systems\n",
            "comp.graphics\n",
            "comp.graphics\n",
            "comp.graphics\n",
            "rec.motorcycles\n",
            "comp.graphics\n",
            "sci.med\n",
            "sci.electronics\n",
            "sci.electronics\n",
            "comp.graphics\n",
            "rec.motorcycles\n",
            "sci.electronics\n"
          ],
          "name": "stdout"
        }
      ]
    },
    {
      "cell_type": "markdown",
      "metadata": {
        "id": "V45_G_BOzeFT"
      },
      "source": [
        "## VECTORIZATION"
      ]
    },
    {
      "cell_type": "code",
      "metadata": {
        "id": "XzI06l9KzeFU"
      },
      "source": [
        "count_vect = CountVectorizer()\n",
        "X_train_counts = count_vect.fit_transform(train_data.data)\n",
        "\n",
        "# transform a count matrix to a normalized tf-idf representation (tf-idf transformer)\n",
        "tfidf_transformer = TfidfTransformer()\n",
        "X_train_tfidf = tfidf_transformer.fit_transform(X_train_counts)\n"
      ],
      "execution_count": null,
      "outputs": []
    },
    {
      "cell_type": "markdown",
      "metadata": {
        "id": "HUdz8y8tzeFU"
      },
      "source": [
        "## K-Means"
      ]
    },
    {
      "cell_type": "code",
      "metadata": {
        "id": "nO5d4MMv3hip"
      },
      "source": [
        "dataset = fetch_20newsgroups(subset='all', categories=categories,shuffle=True, random_state=42)\n",
        "data=dataset.data\n",
        "labels = dataset.target\n",
        "true_k=10"
      ],
      "execution_count": null,
      "outputs": []
    },
    {
      "cell_type": "code",
      "metadata": {
        "colab": {
          "base_uri": "https://localhost:8080/"
        },
        "id": "dIDaBMBG73H9",
        "outputId": "542945f7-aac2-4f95-f988-46d0cc224b79"
      },
      "source": [
        "print(data[400])"
      ],
      "execution_count": null,
      "outputs": [
        {
          "output_type": "stream",
          "text": [
            "From: morley@suncad.camosun.bc.ca (Mark Morley)\n",
            "Subject: Medical Images via Gopher?\n",
            "Nntp-Posting-Host: suncad.camosun.bc.ca\n",
            "Organization: Camosun College, Victoria B.C, Canada\n",
            "X-Newsreader: Tin 1.1 PL4\n",
            "Lines: 11\n",
            "\n",
            "A few days back someone posted info on a gopher site where you could\n",
            "search for medical graphics, etc.  Could someone please repost or mail me\n",
            "a copy?  I'd greatly appreciate it.  Thanks!\n",
            "\n",
            "Mark\n",
            "\n",
            "===================================================================\n",
            " Mark Morley, UNIX/SUN Manager           NET: morley@camosun.bc.ca\n",
            " Camosun College - Interurban Campus     TEL: (604) 370-4601\n",
            " 4461 Interurban Road  Room 143-Tech     FAX: (604) 370-3660\n",
            " Victoria, B.C.  Canada   V8X 3X1\n",
            "\n"
          ],
          "name": "stdout"
        }
      ]
    },
    {
      "cell_type": "code",
      "metadata": {
        "colab": {
          "base_uri": "https://localhost:8080/"
        },
        "id": "x03zuTFW8D8I",
        "outputId": "ceb8c5fe-be4b-4e2c-af21-737252270492"
      },
      "source": [
        "labels"
      ],
      "execution_count": null,
      "outputs": [
        {
          "output_type": "execute_result",
          "data": {
            "text/plain": [
              "array([3, 3, 0, ..., 0, 0, 3])"
            ]
          },
          "metadata": {
            "tags": []
          },
          "execution_count": 51
        }
      ]
    },
    {
      "cell_type": "code",
      "metadata": {
        "id": "syRulptT3gOs"
      },
      "source": [
        "vectorizer = TfidfVectorizer(max_df=0.5,\n",
        "                           min_df=2,\n",
        "                           stop_words='english')\n",
        "X = vectorizer.fit_transform(dataset.data)"
      ],
      "execution_count": null,
      "outputs": []
    },
    {
      "cell_type": "code",
      "metadata": {
        "colab": {
          "base_uri": "https://localhost:8080/"
        },
        "id": "pvWbtfz-3mNO",
        "outputId": "ce0bfa4f-a1f1-435c-bf50-538d00701f65"
      },
      "source": [
        "km = KMeans(n_clusters=20, init='k-means++', max_iter=100, n_init=1)\n",
        "km.fit(X)"
      ],
      "execution_count": null,
      "outputs": [
        {
          "output_type": "execute_result",
          "data": {
            "text/plain": [
              "KMeans(algorithm='auto', copy_x=True, init='k-means++', max_iter=100,\n",
              "       n_clusters=20, n_init=1, n_jobs=None, precompute_distances='auto',\n",
              "       random_state=None, tol=0.0001, verbose=0)"
            ]
          },
          "metadata": {
            "tags": []
          },
          "execution_count": 29
        }
      ]
    },
    {
      "cell_type": "code",
      "metadata": {
        "colab": {
          "base_uri": "https://localhost:8080/"
        },
        "id": "YOVKf2e93rX3",
        "outputId": "1243c3c5-2b35-4aaf-d32a-cac404cb708d"
      },
      "source": [
        "km.inertia_"
      ],
      "execution_count": null,
      "outputs": [
        {
          "output_type": "execute_result",
          "data": {
            "text/plain": [
              "3743.787347394425"
            ]
          },
          "metadata": {
            "tags": []
          },
          "execution_count": 30
        }
      ]
    },
    {
      "cell_type": "code",
      "metadata": {
        "colab": {
          "base_uri": "https://localhost:8080/"
        },
        "id": "RbaCjgPDzeFV",
        "outputId": "b68f6230-323a-477c-fcb8-e9b2b20590d8"
      },
      "source": [
        "km.cluster_centers_"
      ],
      "execution_count": null,
      "outputs": [
        {
          "output_type": "execute_result",
          "data": {
            "text/plain": [
              "array([[0.00000000e+00, 0.00000000e+00, 0.00000000e+00, ...,\n",
              "        0.00000000e+00, 0.00000000e+00, 0.00000000e+00],\n",
              "       [0.00000000e+00, 0.00000000e+00, 0.00000000e+00, ...,\n",
              "        0.00000000e+00, 0.00000000e+00, 0.00000000e+00],\n",
              "       [3.25277450e-04, 7.00221765e-04, 5.21675406e-04, ...,\n",
              "        0.00000000e+00, 0.00000000e+00, 0.00000000e+00],\n",
              "       ...,\n",
              "       [9.97370748e-04, 3.79988747e-04, 0.00000000e+00, ...,\n",
              "        0.00000000e+00, 0.00000000e+00, 0.00000000e+00],\n",
              "       [2.30898235e-03, 6.34550100e-04, 0.00000000e+00, ...,\n",
              "        0.00000000e+00, 0.00000000e+00, 0.00000000e+00],\n",
              "       [2.59507680e-03, 1.08117467e-03, 7.75561209e-05, ...,\n",
              "        1.17977372e-04, 2.93515807e-04, 2.93515807e-04]])"
            ]
          },
          "metadata": {
            "tags": []
          },
          "execution_count": 33
        }
      ]
    },
    {
      "cell_type": "code",
      "metadata": {
        "colab": {
          "base_uri": "https://localhost:8080/"
        },
        "id": "H6PShdWvzeFW",
        "outputId": "40ed22d8-e082-44f6-829d-a5e4922933e6"
      },
      "source": [
        "km.n_iter_"
      ],
      "execution_count": null,
      "outputs": [
        {
          "output_type": "execute_result",
          "data": {
            "text/plain": [
              "32"
            ]
          },
          "metadata": {
            "tags": []
          },
          "execution_count": 34
        }
      ]
    },
    {
      "cell_type": "code",
      "metadata": {
        "colab": {
          "base_uri": "https://localhost:8080/"
        },
        "id": "rbYj9tWs1_Hj",
        "outputId": "b73db0d6-4c78-4377-a62b-ff7f08694762"
      },
      "source": [
        "order_centroids = km.cluster_centers_.argsort()[:, ::-1]\n",
        "terms = vectorizer.get_feature_names()\n",
        "for i in range(true_k):\n",
        "  print(\"cluster \", i+1)\n",
        "  for ind in order_centroids[i,:20]:\n",
        "      print('%s' % terms[ind])\n",
        "  print()"
      ],
      "execution_count": null,
      "outputs": [
        {
          "output_type": "stream",
          "text": [
            "cluster  1\n",
            "information\n",
            "nz\n",
            "keith\n",
            "eis\n",
            "zealand\n",
            "calstate\n",
            "com\n",
            "university\n",
            "thanks\n",
            "new\n",
            "syndrome\n",
            "cs\n",
            "spock\n",
            "cri\n",
            "pat\n",
            "know\n",
            "host\n",
            "nntp\n",
            "posting\n",
            "help\n",
            "\n",
            "cluster  2\n",
            "list\n",
            "cview\n",
            "joe\n",
            "cactus\n",
            "copy\n",
            "rider\n",
            "org\n",
            "mailing\n",
            "registration\n",
            "simms\n",
            "disks\n",
            "senner\n",
            "urc\n",
            "program\n",
            "bmw\n",
            "tue\n",
            "temp\n",
            "user\n",
            "nl\n",
            "protection\n",
            "\n",
            "cluster  3\n",
            "ca\n",
            "bnr\n",
            "duke\n",
            "infante\n",
            "hydro\n",
            "bc\n",
            "acpub\n",
            "tony\n",
            "writes\n",
            "morgan\n",
            "dod\n",
            "bike\n",
            "jody\n",
            "levine\n",
            "article\n",
            "mitre\n",
            "com\n",
            "mbeaving\n",
            "ve\n",
            "rd\n",
            "\n",
            "cluster  4\n",
            "geb\n",
            "banks\n",
            "pitt\n",
            "gordon\n",
            "cs\n",
            "surrender\n",
            "shameful\n",
            "cadre\n",
            "dsl\n",
            "chastity\n",
            "n3jxp\n",
            "intellect\n",
            "skepticism\n",
            "pittsburgh\n",
            "soon\n",
            "univ\n",
            "science\n",
            "computer\n",
            "reply\n",
            "lyme\n",
            "\n",
            "cluster  5\n",
            "sun\n",
            "east\n",
            "green\n",
            "ed\n",
            "egreen\n",
            "com\n",
            "microsystems\n",
            "ninjaite\n",
            "cruncher\n",
            "biker\n",
            "nc\n",
            "8302\n",
            "460\n",
            "0111\n",
            "rtp\n",
            "drinking\n",
            "919\n",
            "pixel\n",
            "grateful\n",
            "like\n",
            "\n",
            "cluster  6\n",
            "com\n",
            "audio\n",
            "amp\n",
            "use\n",
            "power\n",
            "circuit\n",
            "output\n",
            "ir\n",
            "noise\n",
            "radio\n",
            "current\n",
            "used\n",
            "like\n",
            "bellcore\n",
            "input\n",
            "high\n",
            "data\n",
            "voltage\n",
            "cooling\n",
            "dtmedin\n",
            "\n",
            "cluster  7\n",
            "bike\n",
            "behanna\n",
            "nec\n",
            "com\n",
            "dod\n",
            "nj\n",
            "syl\n",
            "chris\n",
            "bikes\n",
            "honda\n",
            "advice\n",
            "ride\n",
            "riding\n",
            "zx\n",
            "writes\n",
            "article\n",
            "yamaha\n",
            "don\n",
            "ll\n",
            "helmet\n",
            "\n",
            "cluster  8\n",
            "ai\n",
            "uga\n",
            "georgia\n",
            "mcovingt\n",
            "covington\n",
            "athens\n",
            "aisun3\n",
            "michael\n",
            "programs\n",
            "542\n",
            "706\n",
            "n4tmi\n",
            "7415\n",
            "0358\n",
            "30602\n",
            "intelligence\n",
            "artificial\n",
            "associate\n",
            "amateur\n",
            "scientist\n",
            "\n",
            "cluster  9\n",
            "ibm\n",
            "photography\n",
            "com\n",
            "krillean\n",
            "3do\n",
            "kirlian\n",
            "pictures\n",
            "article\n",
            "austin\n",
            "vnet\n",
            "carl\n",
            "writes\n",
            "rchland\n",
            "sol1\n",
            "posting\n",
            "caltech\n",
            "leaf\n",
            "gps\n",
            "disclaimer\n",
            "vanderbilt\n",
            "\n",
            "cluster  10\n",
            "image\n",
            "format\n",
            "file\n",
            "files\n",
            "gif\n",
            "images\n",
            "tiff\n",
            "bit\n",
            "color\n",
            "jpeg\n",
            "program\n",
            "24\n",
            "graphics\n",
            "convert\n",
            "display\n",
            "ftp\n",
            "pov\n",
            "formats\n",
            "xv\n",
            "university\n",
            "\n"
          ],
          "name": "stdout"
        }
      ]
    },
    {
      "cell_type": "markdown",
      "metadata": {
        "id": "vVZyUUpd6-QF"
      },
      "source": [
        "### OUTPUT RESULTS"
      ]
    },
    {
      "cell_type": "code",
      "metadata": {
        "colab": {
          "base_uri": "https://localhost:8080/"
        },
        "id": "tTwK7oT15f4V",
        "outputId": "93962841-9e93-44f6-e07e-4954d9bff95a"
      },
      "source": [
        "print(\"Homogeneity: %0.3f\" % metrics.homogeneity_score(labels, km.labels_))\n",
        "print(\"Completeness: %0.3f\" % metrics.completeness_score(labels, km.labels_))\n",
        "print(\"V-measure: %0.3f\" % metrics.v_measure_score(labels, km.labels_))\n",
        "print(\"Silhouette Coefficient: %0.3f\"\n",
        "      % metrics.silhouette_score(X, km.labels_, sample_size=1000))"
      ],
      "execution_count": null,
      "outputs": [
        {
          "output_type": "stream",
          "text": [
            "Homogeneity: 0.416\n",
            "Completeness: 0.231\n",
            "V-measure: 0.297\n",
            "Silhouette Coefficient: 0.009\n"
          ],
          "name": "stdout"
        }
      ]
    },
    {
      "cell_type": "markdown",
      "metadata": {
        "id": "GQcfsdv0zeFW"
      },
      "source": [
        "## K-Medoids"
      ]
    },
    {
      "cell_type": "code",
      "metadata": {
        "id": "BCa--vcS-idz"
      },
      "source": [
        "myiris = datasets.load_iris()\n",
        "x = myiris.data\n",
        "y = myiris.target"
      ],
      "execution_count": null,
      "outputs": []
    },
    {
      "cell_type": "code",
      "metadata": {
        "colab": {
          "base_uri": "https://localhost:8080/"
        },
        "id": "_M4Tvpq0-we1",
        "outputId": "17d15b88-8072-4dfc-f946-79c5b9051e0b"
      },
      "source": [
        "print(myiris)"
      ],
      "execution_count": null,
      "outputs": [
        {
          "output_type": "stream",
          "text": [
            "{'data': array([[5.1, 3.5, 1.4, 0.2],\n",
            "       [4.9, 3. , 1.4, 0.2],\n",
            "       [4.7, 3.2, 1.3, 0.2],\n",
            "       [4.6, 3.1, 1.5, 0.2],\n",
            "       [5. , 3.6, 1.4, 0.2],\n",
            "       [5.4, 3.9, 1.7, 0.4],\n",
            "       [4.6, 3.4, 1.4, 0.3],\n",
            "       [5. , 3.4, 1.5, 0.2],\n",
            "       [4.4, 2.9, 1.4, 0.2],\n",
            "       [4.9, 3.1, 1.5, 0.1],\n",
            "       [5.4, 3.7, 1.5, 0.2],\n",
            "       [4.8, 3.4, 1.6, 0.2],\n",
            "       [4.8, 3. , 1.4, 0.1],\n",
            "       [4.3, 3. , 1.1, 0.1],\n",
            "       [5.8, 4. , 1.2, 0.2],\n",
            "       [5.7, 4.4, 1.5, 0.4],\n",
            "       [5.4, 3.9, 1.3, 0.4],\n",
            "       [5.1, 3.5, 1.4, 0.3],\n",
            "       [5.7, 3.8, 1.7, 0.3],\n",
            "       [5.1, 3.8, 1.5, 0.3],\n",
            "       [5.4, 3.4, 1.7, 0.2],\n",
            "       [5.1, 3.7, 1.5, 0.4],\n",
            "       [4.6, 3.6, 1. , 0.2],\n",
            "       [5.1, 3.3, 1.7, 0.5],\n",
            "       [4.8, 3.4, 1.9, 0.2],\n",
            "       [5. , 3. , 1.6, 0.2],\n",
            "       [5. , 3.4, 1.6, 0.4],\n",
            "       [5.2, 3.5, 1.5, 0.2],\n",
            "       [5.2, 3.4, 1.4, 0.2],\n",
            "       [4.7, 3.2, 1.6, 0.2],\n",
            "       [4.8, 3.1, 1.6, 0.2],\n",
            "       [5.4, 3.4, 1.5, 0.4],\n",
            "       [5.2, 4.1, 1.5, 0.1],\n",
            "       [5.5, 4.2, 1.4, 0.2],\n",
            "       [4.9, 3.1, 1.5, 0.2],\n",
            "       [5. , 3.2, 1.2, 0.2],\n",
            "       [5.5, 3.5, 1.3, 0.2],\n",
            "       [4.9, 3.6, 1.4, 0.1],\n",
            "       [4.4, 3. , 1.3, 0.2],\n",
            "       [5.1, 3.4, 1.5, 0.2],\n",
            "       [5. , 3.5, 1.3, 0.3],\n",
            "       [4.5, 2.3, 1.3, 0.3],\n",
            "       [4.4, 3.2, 1.3, 0.2],\n",
            "       [5. , 3.5, 1.6, 0.6],\n",
            "       [5.1, 3.8, 1.9, 0.4],\n",
            "       [4.8, 3. , 1.4, 0.3],\n",
            "       [5.1, 3.8, 1.6, 0.2],\n",
            "       [4.6, 3.2, 1.4, 0.2],\n",
            "       [5.3, 3.7, 1.5, 0.2],\n",
            "       [5. , 3.3, 1.4, 0.2],\n",
            "       [7. , 3.2, 4.7, 1.4],\n",
            "       [6.4, 3.2, 4.5, 1.5],\n",
            "       [6.9, 3.1, 4.9, 1.5],\n",
            "       [5.5, 2.3, 4. , 1.3],\n",
            "       [6.5, 2.8, 4.6, 1.5],\n",
            "       [5.7, 2.8, 4.5, 1.3],\n",
            "       [6.3, 3.3, 4.7, 1.6],\n",
            "       [4.9, 2.4, 3.3, 1. ],\n",
            "       [6.6, 2.9, 4.6, 1.3],\n",
            "       [5.2, 2.7, 3.9, 1.4],\n",
            "       [5. , 2. , 3.5, 1. ],\n",
            "       [5.9, 3. , 4.2, 1.5],\n",
            "       [6. , 2.2, 4. , 1. ],\n",
            "       [6.1, 2.9, 4.7, 1.4],\n",
            "       [5.6, 2.9, 3.6, 1.3],\n",
            "       [6.7, 3.1, 4.4, 1.4],\n",
            "       [5.6, 3. , 4.5, 1.5],\n",
            "       [5.8, 2.7, 4.1, 1. ],\n",
            "       [6.2, 2.2, 4.5, 1.5],\n",
            "       [5.6, 2.5, 3.9, 1.1],\n",
            "       [5.9, 3.2, 4.8, 1.8],\n",
            "       [6.1, 2.8, 4. , 1.3],\n",
            "       [6.3, 2.5, 4.9, 1.5],\n",
            "       [6.1, 2.8, 4.7, 1.2],\n",
            "       [6.4, 2.9, 4.3, 1.3],\n",
            "       [6.6, 3. , 4.4, 1.4],\n",
            "       [6.8, 2.8, 4.8, 1.4],\n",
            "       [6.7, 3. , 5. , 1.7],\n",
            "       [6. , 2.9, 4.5, 1.5],\n",
            "       [5.7, 2.6, 3.5, 1. ],\n",
            "       [5.5, 2.4, 3.8, 1.1],\n",
            "       [5.5, 2.4, 3.7, 1. ],\n",
            "       [5.8, 2.7, 3.9, 1.2],\n",
            "       [6. , 2.7, 5.1, 1.6],\n",
            "       [5.4, 3. , 4.5, 1.5],\n",
            "       [6. , 3.4, 4.5, 1.6],\n",
            "       [6.7, 3.1, 4.7, 1.5],\n",
            "       [6.3, 2.3, 4.4, 1.3],\n",
            "       [5.6, 3. , 4.1, 1.3],\n",
            "       [5.5, 2.5, 4. , 1.3],\n",
            "       [5.5, 2.6, 4.4, 1.2],\n",
            "       [6.1, 3. , 4.6, 1.4],\n",
            "       [5.8, 2.6, 4. , 1.2],\n",
            "       [5. , 2.3, 3.3, 1. ],\n",
            "       [5.6, 2.7, 4.2, 1.3],\n",
            "       [5.7, 3. , 4.2, 1.2],\n",
            "       [5.7, 2.9, 4.2, 1.3],\n",
            "       [6.2, 2.9, 4.3, 1.3],\n",
            "       [5.1, 2.5, 3. , 1.1],\n",
            "       [5.7, 2.8, 4.1, 1.3],\n",
            "       [6.3, 3.3, 6. , 2.5],\n",
            "       [5.8, 2.7, 5.1, 1.9],\n",
            "       [7.1, 3. , 5.9, 2.1],\n",
            "       [6.3, 2.9, 5.6, 1.8],\n",
            "       [6.5, 3. , 5.8, 2.2],\n",
            "       [7.6, 3. , 6.6, 2.1],\n",
            "       [4.9, 2.5, 4.5, 1.7],\n",
            "       [7.3, 2.9, 6.3, 1.8],\n",
            "       [6.7, 2.5, 5.8, 1.8],\n",
            "       [7.2, 3.6, 6.1, 2.5],\n",
            "       [6.5, 3.2, 5.1, 2. ],\n",
            "       [6.4, 2.7, 5.3, 1.9],\n",
            "       [6.8, 3. , 5.5, 2.1],\n",
            "       [5.7, 2.5, 5. , 2. ],\n",
            "       [5.8, 2.8, 5.1, 2.4],\n",
            "       [6.4, 3.2, 5.3, 2.3],\n",
            "       [6.5, 3. , 5.5, 1.8],\n",
            "       [7.7, 3.8, 6.7, 2.2],\n",
            "       [7.7, 2.6, 6.9, 2.3],\n",
            "       [6. , 2.2, 5. , 1.5],\n",
            "       [6.9, 3.2, 5.7, 2.3],\n",
            "       [5.6, 2.8, 4.9, 2. ],\n",
            "       [7.7, 2.8, 6.7, 2. ],\n",
            "       [6.3, 2.7, 4.9, 1.8],\n",
            "       [6.7, 3.3, 5.7, 2.1],\n",
            "       [7.2, 3.2, 6. , 1.8],\n",
            "       [6.2, 2.8, 4.8, 1.8],\n",
            "       [6.1, 3. , 4.9, 1.8],\n",
            "       [6.4, 2.8, 5.6, 2.1],\n",
            "       [7.2, 3. , 5.8, 1.6],\n",
            "       [7.4, 2.8, 6.1, 1.9],\n",
            "       [7.9, 3.8, 6.4, 2. ],\n",
            "       [6.4, 2.8, 5.6, 2.2],\n",
            "       [6.3, 2.8, 5.1, 1.5],\n",
            "       [6.1, 2.6, 5.6, 1.4],\n",
            "       [7.7, 3. , 6.1, 2.3],\n",
            "       [6.3, 3.4, 5.6, 2.4],\n",
            "       [6.4, 3.1, 5.5, 1.8],\n",
            "       [6. , 3. , 4.8, 1.8],\n",
            "       [6.9, 3.1, 5.4, 2.1],\n",
            "       [6.7, 3.1, 5.6, 2.4],\n",
            "       [6.9, 3.1, 5.1, 2.3],\n",
            "       [5.8, 2.7, 5.1, 1.9],\n",
            "       [6.8, 3.2, 5.9, 2.3],\n",
            "       [6.7, 3.3, 5.7, 2.5],\n",
            "       [6.7, 3. , 5.2, 2.3],\n",
            "       [6.3, 2.5, 5. , 1.9],\n",
            "       [6.5, 3. , 5.2, 2. ],\n",
            "       [6.2, 3.4, 5.4, 2.3],\n",
            "       [5.9, 3. , 5.1, 1.8]]), 'target': array([0, 0, 0, 0, 0, 0, 0, 0, 0, 0, 0, 0, 0, 0, 0, 0, 0, 0, 0, 0, 0, 0,\n",
            "       0, 0, 0, 0, 0, 0, 0, 0, 0, 0, 0, 0, 0, 0, 0, 0, 0, 0, 0, 0, 0, 0,\n",
            "       0, 0, 0, 0, 0, 0, 1, 1, 1, 1, 1, 1, 1, 1, 1, 1, 1, 1, 1, 1, 1, 1,\n",
            "       1, 1, 1, 1, 1, 1, 1, 1, 1, 1, 1, 1, 1, 1, 1, 1, 1, 1, 1, 1, 1, 1,\n",
            "       1, 1, 1, 1, 1, 1, 1, 1, 1, 1, 1, 1, 2, 2, 2, 2, 2, 2, 2, 2, 2, 2,\n",
            "       2, 2, 2, 2, 2, 2, 2, 2, 2, 2, 2, 2, 2, 2, 2, 2, 2, 2, 2, 2, 2, 2,\n",
            "       2, 2, 2, 2, 2, 2, 2, 2, 2, 2, 2, 2, 2, 2, 2, 2, 2, 2]), 'target_names': array(['setosa', 'versicolor', 'virginica'], dtype='<U10'), 'DESCR': '.. _iris_dataset:\\n\\nIris plants dataset\\n--------------------\\n\\n**Data Set Characteristics:**\\n\\n    :Number of Instances: 150 (50 in each of three classes)\\n    :Number of Attributes: 4 numeric, predictive attributes and the class\\n    :Attribute Information:\\n        - sepal length in cm\\n        - sepal width in cm\\n        - petal length in cm\\n        - petal width in cm\\n        - class:\\n                - Iris-Setosa\\n                - Iris-Versicolour\\n                - Iris-Virginica\\n                \\n    :Summary Statistics:\\n\\n    ============== ==== ==== ======= ===== ====================\\n                    Min  Max   Mean    SD   Class Correlation\\n    ============== ==== ==== ======= ===== ====================\\n    sepal length:   4.3  7.9   5.84   0.83    0.7826\\n    sepal width:    2.0  4.4   3.05   0.43   -0.4194\\n    petal length:   1.0  6.9   3.76   1.76    0.9490  (high!)\\n    petal width:    0.1  2.5   1.20   0.76    0.9565  (high!)\\n    ============== ==== ==== ======= ===== ====================\\n\\n    :Missing Attribute Values: None\\n    :Class Distribution: 33.3% for each of 3 classes.\\n    :Creator: R.A. Fisher\\n    :Donor: Michael Marshall (MARSHALL%PLU@io.arc.nasa.gov)\\n    :Date: July, 1988\\n\\nThe famous Iris database, first used by Sir R.A. Fisher. The dataset is taken\\nfrom Fisher\\'s paper. Note that it\\'s the same as in R, but not as in the UCI\\nMachine Learning Repository, which has two wrong data points.\\n\\nThis is perhaps the best known database to be found in the\\npattern recognition literature.  Fisher\\'s paper is a classic in the field and\\nis referenced frequently to this day.  (See Duda & Hart, for example.)  The\\ndata set contains 3 classes of 50 instances each, where each class refers to a\\ntype of iris plant.  One class is linearly separable from the other 2; the\\nlatter are NOT linearly separable from each other.\\n\\n.. topic:: References\\n\\n   - Fisher, R.A. \"The use of multiple measurements in taxonomic problems\"\\n     Annual Eugenics, 7, Part II, 179-188 (1936); also in \"Contributions to\\n     Mathematical Statistics\" (John Wiley, NY, 1950).\\n   - Duda, R.O., & Hart, P.E. (1973) Pattern Classification and Scene Analysis.\\n     (Q327.D83) John Wiley & Sons.  ISBN 0-471-22361-1.  See page 218.\\n   - Dasarathy, B.V. (1980) \"Nosing Around the Neighborhood: A New System\\n     Structure and Classification Rule for Recognition in Partially Exposed\\n     Environments\".  IEEE Transactions on Pattern Analysis and Machine\\n     Intelligence, Vol. PAMI-2, No. 1, 67-71.\\n   - Gates, G.W. (1972) \"The Reduced Nearest Neighbor Rule\".  IEEE Transactions\\n     on Information Theory, May 1972, 431-433.\\n   - See also: 1988 MLC Proceedings, 54-64.  Cheeseman et al\"s AUTOCLASS II\\n     conceptual clustering system finds 3 classes in the data.\\n   - Many, many more ...', 'feature_names': ['sepal length (cm)', 'sepal width (cm)', 'petal length (cm)', 'petal width (cm)'], 'filename': '/usr/local/lib/python3.7/dist-packages/sklearn/datasets/data/iris.csv'}\n"
          ],
          "name": "stdout"
        }
      ]
    },
    {
      "cell_type": "markdown",
      "metadata": {
        "id": "PTqqSN5oAfov"
      },
      "source": [
        "## Scaling and Fitting KMedoids"
      ]
    },
    {
      "cell_type": "code",
      "metadata": {
        "id": "BqPqRE7W_ACf"
      },
      "source": [
        "from sklearn.preprocessing import StandardScaler\n",
        "scaler = StandardScaler().fit(x)\n",
        "x_scaled = scaler.transform(x)\n",
        "kMedoids = KMedoids(n_clusters = 3, random_state = 0)\n",
        "kMedoids.fit(x_scaled)\n",
        "y_kmed = kMedoids.fit_predict(x_scaled)"
      ],
      "execution_count": null,
      "outputs": []
    },
    {
      "cell_type": "code",
      "metadata": {
        "colab": {
          "base_uri": "https://localhost:8080/"
        },
        "id": "D2YuZdqtAecQ",
        "outputId": "941787fc-afe5-4e87-dc5a-030aac7b09a0"
      },
      "source": [
        "y_kmed"
      ],
      "execution_count": null,
      "outputs": [
        {
          "output_type": "execute_result",
          "data": {
            "text/plain": [
              "array([0, 0, 0, 0, 0, 0, 0, 0, 0, 0, 0, 0, 0, 0, 0, 0, 0, 0, 0, 0, 0, 0,\n",
              "       0, 0, 0, 0, 0, 0, 0, 0, 0, 0, 0, 0, 0, 0, 0, 0, 0, 0, 0, 0, 0, 0,\n",
              "       0, 0, 0, 0, 0, 0, 2, 2, 2, 1, 1, 1, 2, 1, 1, 1, 1, 1, 1, 1, 1, 2,\n",
              "       1, 1, 1, 1, 1, 1, 1, 1, 1, 2, 2, 2, 1, 1, 1, 1, 1, 1, 1, 1, 2, 1,\n",
              "       1, 1, 1, 1, 1, 1, 1, 1, 1, 1, 1, 1, 2, 1, 2, 2, 2, 2, 1, 2, 2, 2,\n",
              "       2, 2, 2, 1, 1, 2, 2, 2, 2, 1, 2, 1, 2, 1, 2, 2, 1, 1, 2, 2, 2, 2,\n",
              "       2, 1, 1, 2, 2, 2, 1, 2, 2, 2, 1, 2, 2, 2, 1, 2, 2, 1])"
            ]
          },
          "metadata": {
            "tags": []
          },
          "execution_count": 72
        }
      ]
    },
    {
      "cell_type": "code",
      "metadata": {
        "colab": {
          "base_uri": "https://localhost:8080/"
        },
        "id": "KZJFezm9AnPg",
        "outputId": "87ec73a8-2294-4310-e96c-7014b7c231d3"
      },
      "source": [
        "kMedoids.inertia_"
      ],
      "execution_count": null,
      "outputs": [
        {
          "output_type": "execute_result",
          "data": {
            "text/plain": [
              "131.87877332824286"
            ]
          },
          "metadata": {
            "tags": []
          },
          "execution_count": 75
        }
      ]
    },
    {
      "cell_type": "code",
      "metadata": {
        "colab": {
          "base_uri": "https://localhost:8080/"
        },
        "id": "Td0J9ZlUAy8u",
        "outputId": "fa557898-1d45-4af0-b1a8-5562b8b641e0"
      },
      "source": [
        "kMedoids.cluster_centers_"
      ],
      "execution_count": null,
      "outputs": [
        {
          "output_type": "execute_result",
          "data": {
            "text/plain": [
              "array([[-1.02184904,  0.78880759, -1.2833891 , -1.3154443 ],\n",
              "       [-0.17367395, -0.59237301,  0.42173371,  0.13250973],\n",
              "       [ 1.2803405 ,  0.09821729,  0.93327055,  1.18556721]])"
            ]
          },
          "metadata": {
            "tags": []
          },
          "execution_count": 77
        }
      ]
    },
    {
      "cell_type": "code",
      "metadata": {
        "colab": {
          "base_uri": "https://localhost:8080/"
        },
        "id": "0ADmUxSYBAeI",
        "outputId": "a03f8403-aab2-4fc1-9494-01fdca8daca1"
      },
      "source": [
        "kMedoids.n_iter_"
      ],
      "execution_count": null,
      "outputs": [
        {
          "output_type": "execute_result",
          "data": {
            "text/plain": [
              "2"
            ]
          },
          "metadata": {
            "tags": []
          },
          "execution_count": 78
        }
      ]
    },
    {
      "cell_type": "markdown",
      "metadata": {
        "id": "Mjkvkv1YCCgZ"
      },
      "source": [
        "## Evaluating clusters"
      ]
    },
    {
      "cell_type": "code",
      "metadata": {
        "colab": {
          "base_uri": "https://localhost:8080/"
        },
        "id": "_F-NRW9LBGqr",
        "outputId": "706d00de-e466-4382-9bb9-23d451dd30f2"
      },
      "source": [
        "from sklearn.metrics import silhouette_samples, silhouette_score\n",
        "kMedoids = KMedoids(n_clusters = 3, random_state = 0)\n",
        "kMedoids.fit(x_scaled)\n",
        "y_kmed = kMedoids.fit_predict(x_scaled)\n",
        "silhouette_avg = silhouette_score(x_scaled, y_kmed)\n",
        "print(silhouette_avg)"
      ],
      "execution_count": null,
      "outputs": [
        {
          "output_type": "stream",
          "text": [
            "0.4590416105554613\n"
          ],
          "name": "stdout"
        }
      ]
    },
    {
      "cell_type": "code",
      "metadata": {
        "colab": {
          "base_uri": "https://localhost:8080/"
        },
        "id": "qwP7Cdm4BKgG",
        "outputId": "a8dabeb8-60f0-4c82-c2da-00dec4b99728"
      },
      "source": [
        "sample_silhouette_values = silhouette_samples(x_scaled, y_kmed)\n",
        "for i in range(3):\n",
        "    ith_cluster_silhouette_values = sample_silhouette_values[y_kmed == i]\n",
        "    print(np.mean(ith_cluster_silhouette_values))"
      ],
      "execution_count": null,
      "outputs": [
        {
          "output_type": "stream",
          "text": [
            "0.636330614585637\n",
            "0.3768888598233938\n",
            "0.36213487963471125\n"
          ],
          "name": "stdout"
        }
      ]
    },
    {
      "cell_type": "markdown",
      "metadata": {
        "id": "GENb9s14CIje"
      },
      "source": [
        "## Finding Number of Clusters"
      ]
    },
    {
      "cell_type": "code",
      "metadata": {
        "id": "FSBx3F57BRg-"
      },
      "source": [
        "sw = []\n",
        "\n",
        "for i in range(2, 11):\n",
        "    kMedoids = KMedoids(n_clusters = i, random_state = 0)\n",
        "    kMedoids.fit(x_scaled)\n",
        "    y_kmed = kMedoids.fit_predict(x_scaled)\n",
        "    silhouette_avg = silhouette_score(x_scaled, y_kmed)\n",
        "    sw.append(silhouette_avg)"
      ],
      "execution_count": null,
      "outputs": []
    },
    {
      "cell_type": "code",
      "metadata": {
        "colab": {
          "base_uri": "https://localhost:8080/",
          "height": 295
        },
        "id": "Wr-innqNBTAO",
        "outputId": "da98374f-e59f-4c07-a899-11ac98610b35"
      },
      "source": [
        "plt.plot(range(2, 11), sw)\n",
        "plt.title('Silhoute Score')\n",
        "plt.xlabel('Number of clusters')\n",
        "plt.ylabel('SW')      \n",
        "plt.show()"
      ],
      "execution_count": null,
      "outputs": [
        {
          "output_type": "display_data",
          "data": {
            "image/png": "[encoded data removed]",
            "text/plain": [
              "<Figure size 432x288 with 1 Axes>"
            ]
          },
          "metadata": {
            "tags": [],
            "needs_background": "light"
          }
        }
      ]
    },
    {
      "cell_type": "markdown",
      "metadata": {
        "id": "aQOisLo2CPfM"
      },
      "source": [
        "Finding Purity Score"
      ]
    },
    {
      "cell_type": "code",
      "metadata": {
        "id": "Dim4blLlBYK1"
      },
      "source": [
        "def purity_score(y_true, y_pred):\n",
        "\n",
        "    contingency_matrix = metrics.cluster.contingency_matrix(y_true, y_pred)\n",
        "    return np.sum(np.amax(contingency_matrix, axis=0)) / np.sum(contingency_matrix) "
      ],
      "execution_count": null,
      "outputs": []
    },
    {
      "cell_type": "code",
      "metadata": {
        "colab": {
          "base_uri": "https://localhost:8080/"
        },
        "id": "yi4OZABuBjrg",
        "outputId": "6919425f-e38e-474a-a828-88622c8e990d"
      },
      "source": [
        "kmedoids = KMedoids(n_clusters=3, random_state=0).fit(x_scaled)\n",
        "y_kmed = kmedoids.fit_predict(x_scaled)\n",
        "purity_score(y,y_kmed)"
      ],
      "execution_count": null,
      "outputs": [
        {
          "output_type": "execute_result",
          "data": {
            "text/plain": [
              "0.84"
            ]
          },
          "metadata": {
            "tags": []
          },
          "execution_count": 85
        }
      ]
    },
    {
      "cell_type": "code",
      "metadata": {
        "colab": {
          "base_uri": "https://localhost:8080/",
          "height": 282
        },
        "id": "YQcYoc8OBn2l",
        "outputId": "80222b10-fda3-42bf-bb31-dc8764d6734b"
      },
      "source": [
        "plt.scatter(x_scaled[y_kmed == 0, 0], x_scaled[y_kmed == 0, 1], s = 100, c = 'red', label = 'C1')\n",
        "plt.scatter(x_scaled[y_kmed == 1, 0], x_scaled[y_kmed == 1, 1], s = 100, c = 'blue', label = 'C2')\n",
        "plt.scatter(x_scaled[y_kmed == 2, 0], x_scaled[y_kmed == 2, 1], s = 100, c = 'green', label = 'C3')\n",
        "plt.scatter(kmedoids.cluster_centers_[:, 0], kmedoids.cluster_centers_[:,1], s = 100, c = 'yellow', label = 'Centroids')\n",
        "plt.legend()"
      ],
      "execution_count": null,
      "outputs": [
        {
          "output_type": "execute_result",
          "data": {
            "text/plain": [
              "<matplotlib.legend.Legend at 0x7fbf3892b750>"
            ]
          },
          "metadata": {
            "tags": []
          },
          "execution_count": 86
        },
        {
          "output_type": "display_data",
          "data": {
            "image/png": "[encoded data removed]",
            "text/plain": [
              "<Figure size 432x288 with 1 Axes>"
            ]
          },
          "metadata": {
            "tags": [],
            "needs_background": "light"
          }
        }
      ]
    },
    {
      "cell_type": "markdown",
      "metadata": {
        "id": "Bu7BTUAozeFa"
      },
      "source": [
        "# Hierarchal Clustering"
      ]
    },
    {
      "cell_type": "code",
      "metadata": {
        "colab": {
          "resources": {
            "http://localhost:8080/nbextensions/google.colab/files.js": {
              "data": "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",
              "ok": true,
              "headers": [
                [
                  "content-type",
                  "application/javascript"
                ]
              ],
              "status": 200,
              "status_text": ""
            }
          },
          "base_uri": "https://localhost:8080/",
          "height": 72
        },
        "id": "mt57hd1dEUcw",
        "outputId": "2acc2d92-4d25-4709-e489-fa7ccbe5e01b"
      },
      "source": [
        "from google.colab import files\n",
        "uploaded = files.upload()"
      ],
      "execution_count": null,
      "outputs": [
        {
          "output_type": "display_data",
          "data": {
            "text/html": [
              "\n",
              "     <input type=\"file\" id=\"files-73e91a18-29d4-4f87-b865-a3b45a183745\" name=\"files[]\" multiple disabled\n",
              "        style=\"border:none\" />\n",
              "     <output id=\"result-73e91a18-29d4-4f87-b865-a3b45a183745\">\n",
              "      Upload widget is only available when the cell has been executed in the\n",
              "      current browser session. Please rerun this cell to enable.\n",
              "      </output>\n",
              "      <script src=\"/nbextensions/google.colab/files.js\"></script> "
            ],
            "text/plain": [
              "<IPython.core.display.HTML object>"
            ]
          },
          "metadata": {
            "tags": []
          }
        },
        {
          "output_type": "stream",
          "text": [
            "Saving Wholesale customers data.csv to Wholesale customers data.csv\n"
          ],
          "name": "stdout"
        }
      ]
    },
    {
      "cell_type": "code",
      "metadata": {
        "id": "D5h-cHL4Eoar"
      },
      "source": [
        "import io\n",
        "data = pd.read_csv(io.BytesIO(uploaded['Wholesale customers data.csv']))"
      ],
      "execution_count": null,
      "outputs": []
    },
    {
      "cell_type": "markdown",
      "metadata": {
        "id": "m__PmORhEymj"
      },
      "source": [
        "## Data Normalization"
      ]
    },
    {
      "cell_type": "code",
      "metadata": {
        "id": "kxvYO9z6Ew0d"
      },
      "source": [
        "data_scaled = normalize(data)\n",
        "data_scaled = pd.DataFrame(data_scaled, columns=data.columns)"
      ],
      "execution_count": null,
      "outputs": []
    },
    {
      "cell_type": "code",
      "metadata": {
        "colab": {
          "base_uri": "https://localhost:8080/",
          "height": 444
        },
        "id": "SBakRX8BE1lu",
        "outputId": "50d186e2-52c3-4671-f36d-4ce44c8729e6"
      },
      "source": [
        "\n",
        "plt.figure(figsize=(10, 7))  \n",
        "plt.title(\"Dendrograms\")  \n",
        "dend = shc.dendrogram(shc.linkage(data_scaled, method='ward'))"
      ],
      "execution_count": null,
      "outputs": [
        {
          "output_type": "display_data",
          "data": {
            "image/png": "[encoded data removed]",
            "text/plain": [
              "<Figure size 720x504 with 1 Axes>"
            ]
          },
          "metadata": {
            "tags": [],
            "needs_background": "light"
          }
        }
      ]
    },
    {
      "cell_type": "code",
      "metadata": {
        "colab": {
          "base_uri": "https://localhost:8080/",
          "height": 461
        },
        "id": "XOBvwyhjE8s2",
        "outputId": "b8e02efa-a7a9-4018-ce15-5477e976e300"
      },
      "source": [
        "plt.figure(figsize=(10, 7))  \n",
        "plt.title(\"Dendrograms\")  \n",
        "dend = shc.dendrogram(shc.linkage(data_scaled, method='ward'))\n",
        "plt.axhline(y=6, color='r', linestyle='--')"
      ],
      "execution_count": null,
      "outputs": [
        {
          "output_type": "execute_result",
          "data": {
            "text/plain": [
              "<matplotlib.lines.Line2D at 0x7fbf2f2e82d0>"
            ]
          },
          "metadata": {
            "tags": []
          },
          "execution_count": 97
        },
        {
          "output_type": "display_data",
          "data": {
            "image/png": "[encoded data removed]",
            "text/plain": [
              "<Figure size 720x504 with 1 Axes>"
            ]
          },
          "metadata": {
            "tags": [],
            "needs_background": "light"
          }
        }
      ]
    },
    {
      "cell_type": "code",
      "metadata": {
        "colab": {
          "base_uri": "https://localhost:8080/"
        },
        "id": "MnskiYFVE__L",
        "outputId": "d9c03799-c471-471c-fa91-b40eed302e14"
      },
      "source": [
        "cluster = AgglomerativeClustering(n_clusters=2, affinity='euclidean', linkage='ward')  \n",
        "cluster.fit_predict(data_scaled)"
      ],
      "execution_count": null,
      "outputs": [
        {
          "output_type": "execute_result",
          "data": {
            "text/plain": [
              "array([1, 1, 1, 0, 0, 1, 0, 1, 1, 1, 1, 0, 0, 0, 0, 0, 1, 1, 0, 0, 0, 0,\n",
              "       0, 1, 0, 0, 0, 0, 1, 0, 0, 1, 0, 0, 1, 1, 0, 1, 1, 0, 0, 0, 1, 1,\n",
              "       1, 1, 1, 1, 1, 1, 0, 1, 0, 1, 0, 1, 1, 1, 0, 1, 0, 1, 1, 1, 0, 1,\n",
              "       1, 0, 1, 0, 0, 0, 0, 0, 1, 0, 0, 1, 0, 1, 0, 1, 1, 0, 0, 1, 1, 0,\n",
              "       0, 0, 0, 0, 1, 0, 1, 1, 1, 0, 0, 0, 1, 1, 1, 0, 0, 0, 1, 1, 1, 1,\n",
              "       0, 1, 0, 0, 0, 0, 0, 1, 0, 0, 0, 0, 0, 1, 0, 0, 0, 0, 1, 0, 0, 0,\n",
              "       0, 0, 0, 0, 1, 1, 0, 1, 0, 0, 0, 0, 0, 1, 0, 0, 0, 0, 0, 1, 0, 1,\n",
              "       0, 1, 1, 0, 1, 1, 1, 0, 0, 1, 1, 1, 1, 1, 0, 0, 1, 1, 1, 1, 1, 1,\n",
              "       0, 0, 0, 1, 0, 0, 1, 1, 1, 0, 0, 1, 1, 1, 0, 0, 0, 1, 0, 0, 0, 1,\n",
              "       0, 0, 1, 1, 0, 1, 1, 1, 0, 1, 1, 1, 0, 1, 0, 1, 1, 1, 1, 0, 1, 0,\n",
              "       0, 1, 0, 0, 0, 0, 0, 0, 1, 0, 0, 1, 0, 1, 0, 1, 0, 0, 0, 0, 0, 0,\n",
              "       0, 0, 1, 1, 0, 0, 0, 0, 0, 1, 0, 0, 1, 0, 0, 0, 0, 0, 0, 0, 0, 1,\n",
              "       1, 1, 1, 0, 1, 0, 0, 1, 1, 0, 1, 1, 0, 0, 0, 0, 1, 0, 0, 0, 0, 0,\n",
              "       0, 0, 0, 0, 1, 0, 1, 1, 0, 0, 0, 0, 1, 1, 0, 1, 1, 1, 1, 1, 1, 0,\n",
              "       0, 1, 0, 0, 1, 0, 0, 1, 0, 1, 0, 1, 1, 0, 0, 0, 0, 0, 0, 1, 0, 0,\n",
              "       0, 1, 0, 1, 0, 0, 0, 0, 0, 0, 1, 1, 1, 1, 0, 1, 1, 0, 1, 1, 0, 1,\n",
              "       1, 1, 0, 1, 0, 1, 1, 1, 0, 0, 1, 0, 0, 1, 0, 0, 0, 0, 0, 0, 1, 0,\n",
              "       0, 0, 1, 0, 1, 1, 0, 0, 0, 0, 1, 0, 1, 0, 0, 0, 0, 1, 1, 0, 0, 0,\n",
              "       1, 0, 0, 0, 0, 0, 0, 0, 0, 0, 0, 1, 0, 0, 0, 1, 1, 0, 0, 1, 1, 1,\n",
              "       1, 0, 1, 0, 0, 0, 0, 0, 1, 0, 1, 0, 1, 0, 0, 1, 0, 0, 0, 1, 0, 1])"
            ]
          },
          "metadata": {
            "tags": []
          },
          "execution_count": 98
        }
      ]
    },
    {
      "cell_type": "code",
      "metadata": {
        "colab": {
          "base_uri": "https://localhost:8080/",
          "height": 445
        },
        "id": "YyjEjgFgFF9G",
        "outputId": "59c2f686-ba3e-4456-bd95-3846ca2ec865"
      },
      "source": [
        "plt.figure(figsize=(10, 7))  \n",
        "plt.scatter(data_scaled['Milk'], data_scaled['Grocery'], c=cluster.labels_) "
      ],
      "execution_count": null,
      "outputs": [
        {
          "output_type": "execute_result",
          "data": {
            "text/plain": [
              "<matplotlib.collections.PathCollection at 0x7fbf2eeed690>"
            ]
          },
          "metadata": {
            "tags": []
          },
          "execution_count": 99
        },
        {
          "output_type": "display_data",
          "data": {
            "image/png": "[encoded data removed]",
            "text/plain": [
              "<Figure size 720x504 with 1 Axes>"
            ]
          },
          "metadata": {
            "tags": [],
            "needs_background": "light"
          }
        }
      ]
    }
  ]
}
