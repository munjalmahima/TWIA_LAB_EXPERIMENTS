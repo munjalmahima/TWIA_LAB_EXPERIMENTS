{
  "nbformat": 4,
  "nbformat_minor": 0,
  "metadata": {
    "kernelspec": {
      "name": "python3",
      "display_name": "Python 3",
      "language": "python"
    },
    "language_info": {
      "name": "python",
      "version": "3.7.6",
      "mimetype": "text/x-python",
      "codemirror_mode": {
        "name": "ipython",
        "version": 3
      },
      "pygments_lexer": "ipython3",
      "nbconvert_exporter": "python",
      "file_extension": ".py"
    },
    "colab": {
      "name": "LAB PRACTICAL 8_17CSU098.ipynb",
      "provenance": []
    }
  },
  "cells": [
    {
      "cell_type": "markdown",
      "metadata": {
        "id": "IDnmjqbRJ93f"
      },
      "source": [
        "#**TEXT AND WEB ANALYTICS**\n",
        "\n",
        "##**LAB PRACTICAL 8**\n",
        "\n",
        "###**MAHIMA MUNJAL** \n",
        "\n",
        "###**17CSU098**"
      ]
    },
    {
      "cell_type": "code",
      "metadata": {
        "_uuid": "8f2839f25d086af736a60e9eeb907d3b93b6e0e5",
        "_cell_guid": "b1076dfc-b9ad-4769-8c92-a6c4dae69d19",
        "trusted": true,
        "id": "aisusX1AJ851"
      },
      "source": [
        "import numpy as np \n",
        "import pandas as pd "
      ],
      "execution_count": 1,
      "outputs": []
    },
    {
      "cell_type": "code",
      "metadata": {
        "colab": {
          "resources": {
            "http://localhost:8080/nbextensions/google.colab/files.js": {
              "data": "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",
              "ok": true,
              "headers": [
                [
                  "content-type",
                  "application/javascript"
                ]
              ],
              "status": 200,
              "status_text": ""
            }
          },
          "base_uri": "https://localhost:8080/",
          "height": 72
        },
        "id": "Wa_vm8SpKKCG",
        "outputId": "3c76b360-ce94-4365-9a97-bdfc8a1367b9"
      },
      "source": [
        "from google.colab import files\n",
        "uploaded = files.upload()"
      ],
      "execution_count": 2,
      "outputs": [
        {
          "output_type": "display_data",
          "data": {
            "text/html": [
              "\n",
              "     <input type=\"file\" id=\"files-fb8b9a8b-dd09-428c-89bf-fb78b0da9012\" name=\"files[]\" multiple disabled\n",
              "        style=\"border:none\" />\n",
              "     <output id=\"result-fb8b9a8b-dd09-428c-89bf-fb78b0da9012\">\n",
              "      Upload widget is only available when the cell has been executed in the\n",
              "      current browser session. Please rerun this cell to enable.\n",
              "      </output>\n",
              "      <script src=\"/nbextensions/google.colab/files.js\"></script> "
            ],
            "text/plain": [
              "<IPython.core.display.HTML object>"
            ]
          },
          "metadata": {
            "tags": []
          }
        },
        {
          "output_type": "stream",
          "text": [
            "Saving abcnews-date-text.csv to abcnews-date-text.csv\n"
          ],
          "name": "stdout"
        }
      ]
    },
    {
      "cell_type": "code",
      "metadata": {
        "_uuid": "d629ff2d2480ee46fbb7e2d37f6b5fab8052498a",
        "_cell_guid": "79c7e3d0-c299-4dcb-8224-4455121ee9b0",
        "trusted": true,
        "colab": {
          "base_uri": "https://localhost:8080/",
          "height": 407
        },
        "id": "EUwgrvYrJ853",
        "outputId": "35da5b90-c184-4034-fdb4-8fb1c3c1b212"
      },
      "source": [
        "import io\n",
        "data = pd.read_csv(io.BytesIO(uploaded['abcnews-date-text.csv']))\n",
        "data"
      ],
      "execution_count": 5,
      "outputs": [
        {
          "output_type": "execute_result",
          "data": {
            "text/html": [
              "<div>\n",
              "<style scoped>\n",
              "    .dataframe tbody tr th:only-of-type {\n",
              "        vertical-align: middle;\n",
              "    }\n",
              "\n",
              "    .dataframe tbody tr th {\n",
              "        vertical-align: top;\n",
              "    }\n",
              "\n",
              "    .dataframe thead th {\n",
              "        text-align: right;\n",
              "    }\n",
              "</style>\n",
              "<table border=\"1\" class=\"dataframe\">\n",
              "  <thead>\n",
              "    <tr style=\"text-align: right;\">\n",
              "      <th></th>\n",
              "      <th>publish_date</th>\n",
              "      <th>headline_text</th>\n",
              "    </tr>\n",
              "  </thead>\n",
              "  <tbody>\n",
              "    <tr>\n",
              "      <th>0</th>\n",
              "      <td>20030219</td>\n",
              "      <td>aba decides against community broadcasting lic...</td>\n",
              "    </tr>\n",
              "    <tr>\n",
              "      <th>1</th>\n",
              "      <td>20030219</td>\n",
              "      <td>act fire witnesses must be aware of defamation</td>\n",
              "    </tr>\n",
              "    <tr>\n",
              "      <th>2</th>\n",
              "      <td>20030219</td>\n",
              "      <td>a g calls for infrastructure protection summit</td>\n",
              "    </tr>\n",
              "    <tr>\n",
              "      <th>3</th>\n",
              "      <td>20030219</td>\n",
              "      <td>air nz staff in aust strike for pay rise</td>\n",
              "    </tr>\n",
              "    <tr>\n",
              "      <th>4</th>\n",
              "      <td>20030219</td>\n",
              "      <td>air nz strike to affect australian travellers</td>\n",
              "    </tr>\n",
              "    <tr>\n",
              "      <th>...</th>\n",
              "      <td>...</td>\n",
              "      <td>...</td>\n",
              "    </tr>\n",
              "    <tr>\n",
              "      <th>1226253</th>\n",
              "      <td>20201231</td>\n",
              "      <td>what abc readers learned from 2020 looking bac...</td>\n",
              "    </tr>\n",
              "    <tr>\n",
              "      <th>1226254</th>\n",
              "      <td>20201231</td>\n",
              "      <td>what are the south african and uk variants of ...</td>\n",
              "    </tr>\n",
              "    <tr>\n",
              "      <th>1226255</th>\n",
              "      <td>20201231</td>\n",
              "      <td>what victorias coronavirus restrictions mean f...</td>\n",
              "    </tr>\n",
              "    <tr>\n",
              "      <th>1226256</th>\n",
              "      <td>20201231</td>\n",
              "      <td>whats life like as an american doctor during c...</td>\n",
              "    </tr>\n",
              "    <tr>\n",
              "      <th>1226257</th>\n",
              "      <td>20201231</td>\n",
              "      <td>womens shed canberra reskilling unemployed pan...</td>\n",
              "    </tr>\n",
              "  </tbody>\n",
              "</table>\n",
              "<p>1226258 rows × 2 columns</p>\n",
              "</div>"
            ],
            "text/plain": [
              "         publish_date                                      headline_text\n",
              "0            20030219  aba decides against community broadcasting lic...\n",
              "1            20030219     act fire witnesses must be aware of defamation\n",
              "2            20030219     a g calls for infrastructure protection summit\n",
              "3            20030219           air nz staff in aust strike for pay rise\n",
              "4            20030219      air nz strike to affect australian travellers\n",
              "...               ...                                                ...\n",
              "1226253      20201231  what abc readers learned from 2020 looking bac...\n",
              "1226254      20201231  what are the south african and uk variants of ...\n",
              "1226255      20201231  what victorias coronavirus restrictions mean f...\n",
              "1226256      20201231  whats life like as an american doctor during c...\n",
              "1226257      20201231  womens shed canberra reskilling unemployed pan...\n",
              "\n",
              "[1226258 rows x 2 columns]"
            ]
          },
          "metadata": {
            "tags": []
          },
          "execution_count": 5
        }
      ]
    },
    {
      "cell_type": "code",
      "metadata": {
        "trusted": true,
        "id": "mrZfewHHJ854"
      },
      "source": [
        "data_text=data[:5000][['headline_text']];"
      ],
      "execution_count": 6,
      "outputs": []
    },
    {
      "cell_type": "code",
      "metadata": {
        "trusted": true,
        "id": "9vx1w3ZbJ854"
      },
      "source": [
        "data_text['index']=data_text.index"
      ],
      "execution_count": 7,
      "outputs": []
    },
    {
      "cell_type": "code",
      "metadata": {
        "trusted": true,
        "colab": {
          "base_uri": "https://localhost:8080/",
          "height": 407
        },
        "id": "MtA5XODcJ854",
        "outputId": "3243b35a-b37e-4f0e-8741-4d7890ef1123"
      },
      "source": [
        "documents=data_text\n",
        "documents"
      ],
      "execution_count": 9,
      "outputs": [
        {
          "output_type": "execute_result",
          "data": {
            "text/html": [
              "<div>\n",
              "<style scoped>\n",
              "    .dataframe tbody tr th:only-of-type {\n",
              "        vertical-align: middle;\n",
              "    }\n",
              "\n",
              "    .dataframe tbody tr th {\n",
              "        vertical-align: top;\n",
              "    }\n",
              "\n",
              "    .dataframe thead th {\n",
              "        text-align: right;\n",
              "    }\n",
              "</style>\n",
              "<table border=\"1\" class=\"dataframe\">\n",
              "  <thead>\n",
              "    <tr style=\"text-align: right;\">\n",
              "      <th></th>\n",
              "      <th>headline_text</th>\n",
              "      <th>index</th>\n",
              "    </tr>\n",
              "  </thead>\n",
              "  <tbody>\n",
              "    <tr>\n",
              "      <th>0</th>\n",
              "      <td>aba decides against community broadcasting lic...</td>\n",
              "      <td>0</td>\n",
              "    </tr>\n",
              "    <tr>\n",
              "      <th>1</th>\n",
              "      <td>act fire witnesses must be aware of defamation</td>\n",
              "      <td>1</td>\n",
              "    </tr>\n",
              "    <tr>\n",
              "      <th>2</th>\n",
              "      <td>a g calls for infrastructure protection summit</td>\n",
              "      <td>2</td>\n",
              "    </tr>\n",
              "    <tr>\n",
              "      <th>3</th>\n",
              "      <td>air nz staff in aust strike for pay rise</td>\n",
              "      <td>3</td>\n",
              "    </tr>\n",
              "    <tr>\n",
              "      <th>4</th>\n",
              "      <td>air nz strike to affect australian travellers</td>\n",
              "      <td>4</td>\n",
              "    </tr>\n",
              "    <tr>\n",
              "      <th>...</th>\n",
              "      <td>...</td>\n",
              "      <td>...</td>\n",
              "    </tr>\n",
              "    <tr>\n",
              "      <th>4995</th>\n",
              "      <td>slater stars for blues on day one</td>\n",
              "      <td>4995</td>\n",
              "    </tr>\n",
              "    <tr>\n",
              "      <th>4996</th>\n",
              "      <td>sopranos filming delayed over contract dispute</td>\n",
              "      <td>4996</td>\n",
              "    </tr>\n",
              "    <tr>\n",
              "      <th>4997</th>\n",
              "      <td>souris outlines regional roads funding</td>\n",
              "      <td>4997</td>\n",
              "    </tr>\n",
              "    <tr>\n",
              "      <th>4998</th>\n",
              "      <td>south east water licensees to pay levy</td>\n",
              "      <td>4998</td>\n",
              "    </tr>\n",
              "    <tr>\n",
              "      <th>4999</th>\n",
              "      <td>sri lanka hoping for new zealand defeat</td>\n",
              "      <td>4999</td>\n",
              "    </tr>\n",
              "  </tbody>\n",
              "</table>\n",
              "<p>5000 rows × 2 columns</p>\n",
              "</div>"
            ],
            "text/plain": [
              "                                          headline_text  index\n",
              "0     aba decides against community broadcasting lic...      0\n",
              "1        act fire witnesses must be aware of defamation      1\n",
              "2        a g calls for infrastructure protection summit      2\n",
              "3              air nz staff in aust strike for pay rise      3\n",
              "4         air nz strike to affect australian travellers      4\n",
              "...                                                 ...    ...\n",
              "4995                  slater stars for blues on day one   4995\n",
              "4996     sopranos filming delayed over contract dispute   4996\n",
              "4997             souris outlines regional roads funding   4997\n",
              "4998             south east water licensees to pay levy   4998\n",
              "4999            sri lanka hoping for new zealand defeat   4999\n",
              "\n",
              "[5000 rows x 2 columns]"
            ]
          },
          "metadata": {
            "tags": []
          },
          "execution_count": 9
        }
      ]
    },
    {
      "cell_type": "code",
      "metadata": {
        "trusted": true,
        "colab": {
          "base_uri": "https://localhost:8080/"
        },
        "id": "KA4VrLouJ855",
        "outputId": "6d4c54d9-afe3-41ef-f186-4c118b4e9ada"
      },
      "source": [
        "print(len(documents))"
      ],
      "execution_count": 10,
      "outputs": [
        {
          "output_type": "stream",
          "text": [
            "5000\n"
          ],
          "name": "stdout"
        }
      ]
    },
    {
      "cell_type": "code",
      "metadata": {
        "trusted": true,
        "colab": {
          "base_uri": "https://localhost:8080/"
        },
        "id": "YsJtk-NbJ855",
        "outputId": "0eb9e04f-8723-4098-fda4-7db38e4ed118"
      },
      "source": [
        "documents.isnull().sum()"
      ],
      "execution_count": 12,
      "outputs": [
        {
          "output_type": "execute_result",
          "data": {
            "text/plain": [
              "headline_text    0\n",
              "index            0\n",
              "dtype: int64"
            ]
          },
          "metadata": {
            "tags": []
          },
          "execution_count": 12
        }
      ]
    },
    {
      "cell_type": "markdown",
      "metadata": {
        "id": "JXk7L6SvJ856"
      },
      "source": [
        "## Data Preprocessing"
      ]
    },
    {
      "cell_type": "code",
      "metadata": {
        "colab": {
          "base_uri": "https://localhost:8080/"
        },
        "id": "fkqB8NqaRgGB",
        "outputId": "fb531b3a-072e-4026-d166-977e2cffb1f5"
      },
      "source": [
        "import nltk\n",
        "nltk.download('stopwords')"
      ],
      "execution_count": 17,
      "outputs": [
        {
          "output_type": "stream",
          "text": [
            "[nltk_data] Downloading package stopwords to /root/nltk_data...\n",
            "[nltk_data]   Unzipping corpora/stopwords.zip.\n"
          ],
          "name": "stdout"
        },
        {
          "output_type": "execute_result",
          "data": {
            "text/plain": [
              "True"
            ]
          },
          "metadata": {
            "tags": []
          },
          "execution_count": 17
        }
      ]
    },
    {
      "cell_type": "code",
      "metadata": {
        "trusted": true,
        "id": "gx6BdddrJ856"
      },
      "source": [
        "import re\n",
        "from nltk.corpus import stopwords\n",
        "from nltk.stem.porter import PorterStemmer"
      ],
      "execution_count": 18,
      "outputs": []
    },
    {
      "cell_type": "code",
      "metadata": {
        "trusted": true,
        "id": "iRFJLenNJ856"
      },
      "source": [
        "corpus=[]\n",
        "for i in range(0,len(documents)):\n",
        "    text=re.sub('[^a-zA-z]',' ',documents['headline_text'][i])\n",
        "    text=text.lower()\n",
        "    text=text.split()\n",
        "    text=[PorterStemmer().stem(word) for word in text if not word in stopwords.words('english')]\n",
        "    text=' '.join(text)\n",
        "    corpus.append(text)\n",
        "    "
      ],
      "execution_count": 19,
      "outputs": []
    },
    {
      "cell_type": "code",
      "metadata": {
        "trusted": true,
        "colab": {
          "base_uri": "https://localhost:8080/"
        },
        "id": "5qUH-MsTJ857",
        "outputId": "ef51f91f-f999-4c0a-95b4-a18ee6a150da"
      },
      "source": [
        "for i in range(0,len(corpus)):\n",
        "    documents['headline_text'][i]=corpus[i]"
      ],
      "execution_count": 20,
      "outputs": [
        {
          "output_type": "stream",
          "text": [
            "/usr/local/lib/python3.7/dist-packages/ipykernel_launcher.py:2: SettingWithCopyWarning: \n",
            "A value is trying to be set on a copy of a slice from a DataFrame\n",
            "\n",
            "See the caveats in the documentation: https://pandas.pydata.org/pandas-docs/stable/user_guide/indexing.html#returning-a-view-versus-a-copy\n",
            "  \n"
          ],
          "name": "stderr"
        }
      ]
    },
    {
      "cell_type": "code",
      "metadata": {
        "trusted": true,
        "colab": {
          "base_uri": "https://localhost:8080/",
          "height": 407
        },
        "id": "eqXUbUNoJ857",
        "outputId": "76998c72-b633-483d-dcb5-174b8c926e9a"
      },
      "source": [
        "documents[[\"headline_text\"]]"
      ],
      "execution_count": 21,
      "outputs": [
        {
          "output_type": "execute_result",
          "data": {
            "text/html": [
              "<div>\n",
              "<style scoped>\n",
              "    .dataframe tbody tr th:only-of-type {\n",
              "        vertical-align: middle;\n",
              "    }\n",
              "\n",
              "    .dataframe tbody tr th {\n",
              "        vertical-align: top;\n",
              "    }\n",
              "\n",
              "    .dataframe thead th {\n",
              "        text-align: right;\n",
              "    }\n",
              "</style>\n",
              "<table border=\"1\" class=\"dataframe\">\n",
              "  <thead>\n",
              "    <tr style=\"text-align: right;\">\n",
              "      <th></th>\n",
              "      <th>headline_text</th>\n",
              "    </tr>\n",
              "  </thead>\n",
              "  <tbody>\n",
              "    <tr>\n",
              "      <th>0</th>\n",
              "      <td>aba decid commun broadcast licenc</td>\n",
              "    </tr>\n",
              "    <tr>\n",
              "      <th>1</th>\n",
              "      <td>act fire wit must awar defam</td>\n",
              "    </tr>\n",
              "    <tr>\n",
              "      <th>2</th>\n",
              "      <td>g call infrastructur protect summit</td>\n",
              "    </tr>\n",
              "    <tr>\n",
              "      <th>3</th>\n",
              "      <td>air nz staff aust strike pay rise</td>\n",
              "    </tr>\n",
              "    <tr>\n",
              "      <th>4</th>\n",
              "      <td>air nz strike affect australian travel</td>\n",
              "    </tr>\n",
              "    <tr>\n",
              "      <th>...</th>\n",
              "      <td>...</td>\n",
              "    </tr>\n",
              "    <tr>\n",
              "      <th>4995</th>\n",
              "      <td>slater star blue day one</td>\n",
              "    </tr>\n",
              "    <tr>\n",
              "      <th>4996</th>\n",
              "      <td>soprano film delay contract disput</td>\n",
              "    </tr>\n",
              "    <tr>\n",
              "      <th>4997</th>\n",
              "      <td>souri outlin region road fund</td>\n",
              "    </tr>\n",
              "    <tr>\n",
              "      <th>4998</th>\n",
              "      <td>south east water license pay levi</td>\n",
              "    </tr>\n",
              "    <tr>\n",
              "      <th>4999</th>\n",
              "      <td>sri lanka hope new zealand defeat</td>\n",
              "    </tr>\n",
              "  </tbody>\n",
              "</table>\n",
              "<p>5000 rows × 1 columns</p>\n",
              "</div>"
            ],
            "text/plain": [
              "                               headline_text\n",
              "0          aba decid commun broadcast licenc\n",
              "1               act fire wit must awar defam\n",
              "2        g call infrastructur protect summit\n",
              "3          air nz staff aust strike pay rise\n",
              "4     air nz strike affect australian travel\n",
              "...                                      ...\n",
              "4995                slater star blue day one\n",
              "4996      soprano film delay contract disput\n",
              "4997           souri outlin region road fund\n",
              "4998       south east water license pay levi\n",
              "4999       sri lanka hope new zealand defeat\n",
              "\n",
              "[5000 rows x 1 columns]"
            ]
          },
          "metadata": {
            "tags": []
          },
          "execution_count": 21
        }
      ]
    },
    {
      "cell_type": "code",
      "metadata": {
        "trusted": true,
        "colab": {
          "base_uri": "https://localhost:8080/"
        },
        "id": "Qhr1izahJ857",
        "outputId": "c763b2e6-91d6-4466-d5e8-bb5a1431beb6"
      },
      "source": [
        "processed_docs=documents['headline_text']\n",
        "processed_docs"
      ],
      "execution_count": 28,
      "outputs": [
        {
          "output_type": "execute_result",
          "data": {
            "text/plain": [
              "0            aba decid commun broadcast licenc\n",
              "1                 act fire wit must awar defam\n",
              "2          g call infrastructur protect summit\n",
              "3            air nz staff aust strike pay rise\n",
              "4       air nz strike affect australian travel\n",
              "                         ...                  \n",
              "4995                  slater star blue day one\n",
              "4996        soprano film delay contract disput\n",
              "4997             souri outlin region road fund\n",
              "4998         south east water license pay levi\n",
              "4999         sri lanka hope new zealand defeat\n",
              "Name: headline_text, Length: 5000, dtype: object"
            ]
          },
          "metadata": {
            "tags": []
          },
          "execution_count": 28
        }
      ]
    },
    {
      "cell_type": "markdown",
      "metadata": {
        "id": "NqkPzxyaJ85-"
      },
      "source": [
        "## Bag of words on the dataset"
      ]
    },
    {
      "cell_type": "code",
      "metadata": {
        "trusted": true,
        "id": "gMOxTiwcJ85-"
      },
      "source": [
        "import gensim"
      ],
      "execution_count": 23,
      "outputs": []
    },
    {
      "cell_type": "code",
      "metadata": {
        "trusted": true,
        "colab": {
          "base_uri": "https://localhost:8080/"
        },
        "id": "thDSrHjOJ85-",
        "outputId": "2a84d570-4825-4fc9-a3e5-cb8c3b0a2655"
      },
      "source": [
        "dictionary=gensim.corpora.Dictionary([processed_docs[0].split()])\n",
        "print(dictionary)"
      ],
      "execution_count": 34,
      "outputs": [
        {
          "output_type": "stream",
          "text": [
            "Dictionary(5 unique tokens: ['aba', 'broadcast', 'commun', 'decid', 'licenc'])\n"
          ],
          "name": "stdout"
        }
      ]
    },
    {
      "cell_type": "code",
      "metadata": {
        "trusted": true,
        "colab": {
          "base_uri": "https://localhost:8080/"
        },
        "id": "b9eIuK1rJ85-",
        "outputId": "2d85e32f-f71c-4da1-a114-3dabf6ec8cb3"
      },
      "source": [
        "count=0\n",
        "for k,v in dictionary.iteritems():\n",
        "    print(k,v)\n",
        "    count+=1\n",
        "    if count>20:\n",
        "        break"
      ],
      "execution_count": 33,
      "outputs": [
        {
          "output_type": "stream",
          "text": [
            "0 aba\n",
            "1 broadcast\n",
            "2 commun\n",
            "3 decid\n",
            "4 licenc\n"
          ],
          "name": "stdout"
        }
      ]
    },
    {
      "cell_type": "code",
      "metadata": {
        "trusted": true,
        "id": "RBume86EJ85_"
      },
      "source": [
        "dictionary.filter_extremes(no_below=15,no_above=0.1,keep_n=1000)"
      ],
      "execution_count": 35,
      "outputs": []
    },
    {
      "cell_type": "code",
      "metadata": {
        "trusted": true,
        "id": "BKYuNqnkJ85_"
      },
      "source": [
        "bow_corpus=[dictionary.doc2bow(doc) for doc in dictionary]"
      ],
      "execution_count": 45,
      "outputs": []
    },
    {
      "cell_type": "code",
      "metadata": {
        "trusted": true,
        "id": "KT4hAqk5J85_",
        "outputId": "9bb533aa-e061-4845-ed32-da0ca2d64b65"
      },
      "source": [
        "bow_corpus_100=bow_corpus[100]\n",
        "for i in range(len(bow_corpus_100)):\n",
        "    print(\"Word {} (\\\"{}\\\") appears {} time.\".format(bow_corpus_100[i][0], \n",
        "                                                     dictionary[bow_corpus_100[i][0]], \n",
        "                                                     bow_corpus_100[i][1]))"
      ],
      "execution_count": null,
      "outputs": [
        {
          "output_type": "stream",
          "text": [
            "Word 46 (\"urg\") appears 1 time.\n",
            "Word 160 (\"women\") appears 1 time.\n"
          ],
          "name": "stdout"
        }
      ]
    },
    {
      "cell_type": "markdown",
      "metadata": {
        "id": "5DEOhlDkJ85_"
      },
      "source": [
        "## TF-IDF on our document set"
      ]
    },
    {
      "cell_type": "code",
      "metadata": {
        "trusted": true,
        "id": "YIuQsrpRJ86A"
      },
      "source": [
        "from gensim import corpora,models\n",
        "tfidf=models.TfidfModel(bow_corpus)"
      ],
      "execution_count": null,
      "outputs": []
    },
    {
      "cell_type": "code",
      "metadata": {
        "trusted": true,
        "id": "meLtjgl1J86A"
      },
      "source": [
        "corpus_tfidf=tfidf[bow_corpus]"
      ],
      "execution_count": null,
      "outputs": []
    },
    {
      "cell_type": "markdown",
      "metadata": {
        "id": "h0KbWrqFJ86A"
      },
      "source": [
        "## Running LDA using Bag of Words"
      ]
    },
    {
      "cell_type": "code",
      "metadata": {
        "trusted": true,
        "id": "UJtnESbjJ86A"
      },
      "source": [
        "lda_model=gensim.models.LdaMulticore(bow_corpus,\n",
        "                                    num_topics=10,\n",
        "                                    id2word=dictionary,\n",
        "                                    passes=2)"
      ],
      "execution_count": null,
      "outputs": []
    },
    {
      "cell_type": "code",
      "metadata": {
        "trusted": true,
        "id": "SvwTtwTuJ86A",
        "outputId": "b8c14c99-7296-44e5-faf4-1cfd6c646485"
      },
      "source": [
        "for idx,topic in lda_model.print_topics(-1):\n",
        "    print(\"Topic: {} \\nWords: {}\".format(idx, topic))\n",
        "    print(\"\\n\")"
      ],
      "execution_count": null,
      "outputs": [
        {
          "output_type": "stream",
          "text": [
            "Topic: 0 \n",
            "Words: 0.056*\"govt\" + 0.026*\"council\" + 0.024*\"may\" + 0.023*\"drought\" + 0.018*\"vic\" + 0.014*\"end\" + 0.013*\"plan\" + 0.012*\"fight\" + 0.012*\"new\" + 0.011*\"rule\"\n",
            "\n",
            "\n",
            "Topic: 1 \n",
            "Words: 0.045*\"iraq\" + 0.025*\"us\" + 0.022*\"death\" + 0.016*\"missil\" + 0.014*\"hit\" + 0.013*\"play\" + 0.013*\"two\" + 0.012*\"driver\" + 0.012*\"attack\" + 0.011*\"trade\"\n",
            "\n",
            "\n",
            "Topic: 2 \n",
            "Words: 0.023*\"cup\" + 0.021*\"world\" + 0.018*\"lead\" + 0.017*\"die\" + 0.016*\"open\" + 0.015*\"kill\" + 0.014*\"ban\" + 0.013*\"woman\" + 0.012*\"call\" + 0.012*\"hope\"\n",
            "\n",
            "\n",
            "Topic: 3 \n",
            "Words: 0.028*\"polic\" + 0.025*\"say\" + 0.022*\"continu\" + 0.022*\"win\" + 0.021*\"plan\" + 0.018*\"court\" + 0.014*\"union\" + 0.013*\"crash\" + 0.012*\"air\" + 0.012*\"offer\"\n",
            "\n",
            "\n",
            "Topic: 4 \n",
            "Words: 0.033*\"call\" + 0.030*\"hospit\" + 0.027*\"polic\" + 0.018*\"back\" + 0.017*\"clash\" + 0.016*\"concern\" + 0.015*\"coast\" + 0.015*\"probe\" + 0.014*\"man\" + 0.014*\"qld\"\n",
            "\n",
            "\n",
            "Topic: 5 \n",
            "Words: 0.041*\"man\" + 0.029*\"new\" + 0.019*\"jail\" + 0.019*\"health\" + 0.017*\"iraq\" + 0.013*\"us\" + 0.013*\"franc\" + 0.013*\"top\" + 0.012*\"season\" + 0.012*\"australia\"\n",
            "\n",
            "\n",
            "Topic: 6 \n",
            "Words: 0.029*\"warn\" + 0.020*\"trial\" + 0.019*\"fund\" + 0.017*\"protest\" + 0.017*\"take\" + 0.015*\"work\" + 0.014*\"us\" + 0.014*\"bushfir\" + 0.013*\"bomb\" + 0.012*\"wa\"\n",
            "\n",
            "\n",
            "Topic: 7 \n",
            "Words: 0.034*\"polic\" + 0.024*\"rain\" + 0.017*\"set\" + 0.014*\"new\" + 0.014*\"warn\" + 0.013*\"may\" + 0.013*\"water\" + 0.012*\"bring\" + 0.012*\"lead\" + 0.012*\"plan\"\n",
            "\n",
            "\n",
            "Topic: 8 \n",
            "Words: 0.036*\"us\" + 0.022*\"world\" + 0.021*\"council\" + 0.019*\"price\" + 0.018*\"iraq\" + 0.016*\"water\" + 0.015*\"final\" + 0.014*\"record\" + 0.014*\"west\" + 0.013*\"north\"\n",
            "\n",
            "\n",
            "Topic: 9 \n",
            "Words: 0.043*\"charg\" + 0.027*\"nsw\" + 0.027*\"man\" + 0.024*\"fire\" + 0.024*\"war\" + 0.020*\"court\" + 0.020*\"iraq\" + 0.019*\"face\" + 0.018*\"say\" + 0.017*\"claim\"\n",
            "\n",
            "\n"
          ],
          "name": "stdout"
        }
      ]
    },
    {
      "cell_type": "markdown",
      "metadata": {
        "id": "nWU3tEmSJ86A"
      },
      "source": [
        "## Running LDA using TF-IDF"
      ]
    },
    {
      "cell_type": "code",
      "metadata": {
        "trusted": true,
        "id": "kvPCE54TJ86B"
      },
      "source": [
        "lda_model_tfidf = gensim.models.LdaMulticore(corpus_tfidf, \n",
        "                                             num_topics=10, \n",
        "                                             id2word = dictionary, \n",
        "                                             passes = 2, \n",
        "                                             workers=4)"
      ],
      "execution_count": null,
      "outputs": []
    },
    {
      "cell_type": "code",
      "metadata": {
        "trusted": true,
        "id": "d6vSi6bsJ86B",
        "outputId": "42a321ce-45c7-41c4-dbca-462f018166fb"
      },
      "source": [
        "for idx, topic in lda_model_tfidf.print_topics(-1):\n",
        "    print(\"Topic: {} Word: {}\".format(idx, topic))\n",
        "    print(\"\\n\")"
      ],
      "execution_count": null,
      "outputs": [
        {
          "output_type": "stream",
          "text": [
            "Topic: 0 Word: 0.024*\"us\" + 0.024*\"iraq\" + 0.019*\"lead\" + 0.018*\"work\" + 0.017*\"govt\" + 0.016*\"troop\" + 0.015*\"turn\" + 0.015*\"announc\" + 0.013*\"bushfir\" + 0.013*\"reach\"\n",
            "\n",
            "\n",
            "Topic: 1 Word: 0.032*\"plan\" + 0.031*\"charg\" + 0.022*\"win\" + 0.021*\"man\" + 0.020*\"concern\" + 0.018*\"ban\" + 0.018*\"us\" + 0.016*\"fund\" + 0.016*\"aussi\" + 0.015*\"back\"\n",
            "\n",
            "\n",
            "Topic: 2 Word: 0.022*\"meet\" + 0.018*\"hit\" + 0.017*\"get\" + 0.016*\"council\" + 0.014*\"plane\" + 0.014*\"court\" + 0.014*\"welcom\" + 0.014*\"terror\" + 0.013*\"nation\" + 0.013*\"indian\"\n",
            "\n",
            "\n",
            "Topic: 3 Word: 0.022*\"nsw\" + 0.021*\"investig\" + 0.020*\"probe\" + 0.018*\"death\" + 0.017*\"commun\" + 0.017*\"move\" + 0.014*\"council\" + 0.014*\"fire\" + 0.013*\"offer\" + 0.013*\"missil\"\n",
            "\n",
            "\n",
            "Topic: 4 Word: 0.023*\"call\" + 0.019*\"iraqi\" + 0.015*\"say\" + 0.015*\"cup\" + 0.013*\"hand\" + 0.012*\"cyclon\" + 0.012*\"bid\" + 0.012*\"issu\" + 0.012*\"order\" + 0.011*\"discuss\"\n",
            "\n",
            "\n",
            "Topic: 5 Word: 0.020*\"polic\" + 0.020*\"price\" + 0.019*\"final\" + 0.019*\"one\" + 0.017*\"may\" + 0.016*\"clash\" + 0.016*\"name\" + 0.015*\"return\" + 0.014*\"man\" + 0.014*\"court\"\n",
            "\n",
            "\n",
            "Topic: 6 Word: 0.032*\"world\" + 0.025*\"take\" + 0.019*\"look\" + 0.015*\"bomb\" + 0.014*\"caus\" + 0.012*\"last\" + 0.012*\"car\" + 0.012*\"set\" + 0.012*\"murder\" + 0.011*\"man\"\n",
            "\n",
            "\n",
            "Topic: 7 Word: 0.030*\"new\" + 0.021*\"pm\" + 0.017*\"war\" + 0.015*\"blue\" + 0.014*\"boost\" + 0.013*\"critic\" + 0.012*\"accus\" + 0.012*\"job\" + 0.012*\"peac\" + 0.011*\"two\"\n",
            "\n",
            "\n",
            "Topic: 8 Word: 0.025*\"wa\" + 0.023*\"die\" + 0.017*\"face\" + 0.016*\"farmer\" + 0.016*\"trial\" + 0.014*\"test\" + 0.014*\"pressur\" + 0.013*\"continu\" + 0.013*\"hold\" + 0.012*\"game\"\n",
            "\n",
            "\n",
            "Topic: 9 Word: 0.022*\"hospit\" + 0.020*\"end\" + 0.019*\"open\" + 0.019*\"claim\" + 0.017*\"warn\" + 0.015*\"kill\" + 0.015*\"report\" + 0.015*\"miss\" + 0.015*\"polic\" + 0.014*\"set\"\n",
            "\n",
            "\n"
          ],
          "name": "stdout"
        }
      ]
    },
    {
      "cell_type": "markdown",
      "metadata": {
        "id": "EQ1Vf0eSJ86B"
      },
      "source": [
        "## Performance evaluation by classifying sample document using LDA Bag of Words model"
      ]
    },
    {
      "cell_type": "code",
      "metadata": {
        "trusted": true,
        "id": "ShA2FwxtJ86B",
        "outputId": "d26a1b8b-955c-4f5b-9c89-32056a3a52a3"
      },
      "source": [
        "processed_docs[4310]"
      ],
      "execution_count": null,
      "outputs": [
        {
          "output_type": "execute_result",
          "data": {
            "text/plain": [
              "['ratepay', 'group', 'want', 'compulsori', 'local', 'govt', 'vote']"
            ]
          },
          "metadata": {
            "tags": []
          },
          "execution_count": 83
        }
      ]
    },
    {
      "cell_type": "code",
      "metadata": {
        "trusted": true,
        "id": "Os18CuPCJ86B",
        "outputId": "0a0f029f-75cf-44b8-c2b4-a6d19c16ad69"
      },
      "source": [
        "for index, score in sorted(lda_model[bow_corpus[4310]], key=lambda tup: -1*tup[1]):\n",
        "    print(\"\\nScore: {}\\t \\nTopic: {}\".format(score, lda_model.print_topic(index, 10)))"
      ],
      "execution_count": null,
      "outputs": [
        {
          "output_type": "stream",
          "text": [
            "\n",
            "Score: 0.5198260545730591\t \n",
            "Topic: 0.028*\"polic\" + 0.025*\"say\" + 0.022*\"continu\" + 0.022*\"win\" + 0.021*\"plan\" + 0.018*\"court\" + 0.014*\"union\" + 0.013*\"crash\" + 0.012*\"air\" + 0.012*\"offer\"\n",
            "\n",
            "Score: 0.3468012511730194\t \n",
            "Topic: 0.033*\"call\" + 0.030*\"hospit\" + 0.027*\"polic\" + 0.018*\"back\" + 0.017*\"clash\" + 0.016*\"concern\" + 0.015*\"coast\" + 0.015*\"probe\" + 0.014*\"man\" + 0.014*\"qld\"\n",
            "\n",
            "Score: 0.016675421968102455\t \n",
            "Topic: 0.036*\"us\" + 0.022*\"world\" + 0.021*\"council\" + 0.019*\"price\" + 0.018*\"iraq\" + 0.016*\"water\" + 0.015*\"final\" + 0.014*\"record\" + 0.014*\"west\" + 0.013*\"north\"\n",
            "\n",
            "Score: 0.01667441613972187\t \n",
            "Topic: 0.056*\"govt\" + 0.026*\"council\" + 0.024*\"may\" + 0.023*\"drought\" + 0.018*\"vic\" + 0.014*\"end\" + 0.013*\"plan\" + 0.012*\"fight\" + 0.012*\"new\" + 0.011*\"rule\"\n",
            "\n",
            "Score: 0.01667313650250435\t \n",
            "Topic: 0.045*\"iraq\" + 0.025*\"us\" + 0.022*\"death\" + 0.016*\"missil\" + 0.014*\"hit\" + 0.013*\"play\" + 0.013*\"two\" + 0.012*\"driver\" + 0.012*\"attack\" + 0.011*\"trade\"\n",
            "\n",
            "Score: 0.01667311042547226\t \n",
            "Topic: 0.034*\"polic\" + 0.024*\"rain\" + 0.017*\"set\" + 0.014*\"new\" + 0.014*\"warn\" + 0.013*\"may\" + 0.013*\"water\" + 0.012*\"bring\" + 0.012*\"lead\" + 0.012*\"plan\"\n",
            "\n",
            "Score: 0.01667044684290886\t \n",
            "Topic: 0.029*\"warn\" + 0.020*\"trial\" + 0.019*\"fund\" + 0.017*\"protest\" + 0.017*\"take\" + 0.015*\"work\" + 0.014*\"us\" + 0.014*\"bushfir\" + 0.013*\"bomb\" + 0.012*\"wa\"\n",
            "\n",
            "Score: 0.016668951138854027\t \n",
            "Topic: 0.043*\"charg\" + 0.027*\"nsw\" + 0.027*\"man\" + 0.024*\"fire\" + 0.024*\"war\" + 0.020*\"court\" + 0.020*\"iraq\" + 0.019*\"face\" + 0.018*\"say\" + 0.017*\"claim\"\n",
            "\n",
            "Score: 0.016668617725372314\t \n",
            "Topic: 0.041*\"man\" + 0.029*\"new\" + 0.019*\"jail\" + 0.019*\"health\" + 0.017*\"iraq\" + 0.013*\"us\" + 0.013*\"franc\" + 0.013*\"top\" + 0.012*\"season\" + 0.012*\"australia\"\n",
            "\n",
            "Score: 0.016668573021888733\t \n",
            "Topic: 0.023*\"cup\" + 0.021*\"world\" + 0.018*\"lead\" + 0.017*\"die\" + 0.016*\"open\" + 0.015*\"kill\" + 0.014*\"ban\" + 0.013*\"woman\" + 0.012*\"call\" + 0.012*\"hope\"\n"
          ],
          "name": "stdout"
        }
      ]
    }
  ]
}