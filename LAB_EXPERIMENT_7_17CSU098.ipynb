{
  "nbformat": 4,
  "nbformat_minor": 0,
  "metadata": {
    "kernelspec": {
      "display_name": "Python 3",
      "language": "python",
      "name": "python3"
    },
    "language_info": {
      "codemirror_mode": {
        "name": "ipython",
        "version": 3
      },
      "file_extension": ".py",
      "mimetype": "text/x-python",
      "name": "python",
      "nbconvert_exporter": "python",
      "pygments_lexer": "ipython3",
      "version": "3.6.4"
    },
    "colab": {
      "name": "LAB_EXPERIMENT_7_17CSU098.ipynb",
      "provenance": [],
      "collapsed_sections": []
    }
  },
  "cells": [
    {
      "cell_type": "markdown",
      "metadata": {
        "id": "DFDvk-_lvIjt"
      },
      "source": [
        "#**TEXT AND WEB ANALYTICS**\n",
        "\n",
        "##**LAB PRACTICAL 7**\n",
        "\n",
        "###**MAHIMA MUNJAL** \n",
        "\n",
        "###**17CSU098**"
      ]
    },
    {
      "cell_type": "code",
      "metadata": {
        "id": "8-hXQnr3utj0"
      },
      "source": [
        "import numpy as np\n",
        "from sklearn.datasets import fetch_20newsgroups\n",
        "from sklearn.feature_extraction.text import CountVectorizer\n",
        "from sklearn.feature_extraction.text import TfidfTransformer\n",
        "from sklearn.neighbors import KNeighborsClassifier\n",
        "from sklearn.pipeline import Pipeline\n"
      ],
      "execution_count": null,
      "outputs": []
    },
    {
      "cell_type": "code",
      "metadata": {
        "colab": {
          "base_uri": "https://localhost:8080/"
        },
        "id": "qw0c0Sneutj5",
        "outputId": "3fbf387b-fde0-4862-988b-9ccc5bd36a7a"
      },
      "source": [
        "categories = ['rec.motorcycles', 'sci.electronics',\n",
        "              'comp.graphics', 'sci.med']\n",
        "\n",
        "\n",
        "train_data = fetch_20newsgroups(subset='train',\n",
        "                                categories=categories, shuffle=True, random_state=42)\n",
        "\n",
        "print(train_data.target_names)\n",
        "\n",
        "print(\"\\n\".join(train_data.data[0].split(\"\\n\")[:3]))\n",
        "print(train_data.target_names[train_data.target[0]])\n",
        "\n",
        "\n",
        "for t in train_data.target[:10]:\n",
        "    print(train_data.target_names[t])\n",
        "\n"
      ],
      "execution_count": null,
      "outputs": [
        {
          "output_type": "stream",
          "text": [
            "['comp.graphics', 'rec.motorcycles', 'sci.electronics', 'sci.med']\n",
            "From: kreyling@lds.loral.com (Ed Kreyling 6966)\n",
            "Subject: Sun-os and 8bit ASCII graphics\n",
            "Organization: Loral Data Systems\n",
            "comp.graphics\n",
            "comp.graphics\n",
            "comp.graphics\n",
            "rec.motorcycles\n",
            "comp.graphics\n",
            "sci.med\n",
            "sci.electronics\n",
            "sci.electronics\n",
            "comp.graphics\n",
            "rec.motorcycles\n",
            "sci.electronics\n"
          ],
          "name": "stdout"
        }
      ]
    },
    {
      "cell_type": "markdown",
      "metadata": {
        "id": "mCkyiFKxu8dO"
      },
      "source": [
        "### **COUNT VECTORIZER AND TFIDF VECTORIZER**"
      ]
    },
    {
      "cell_type": "code",
      "metadata": {
        "id": "J7MNryt0utj-"
      },
      "source": [
        "count_vect = CountVectorizer()\n",
        "X_train_counts = count_vect.fit_transform(train_data.data)\n",
        "\n",
        "tfidf_transformer = TfidfTransformer()\n",
        "X_train_tfidf = tfidf_transformer.fit_transform(X_train_counts)\n"
      ],
      "execution_count": null,
      "outputs": []
    },
    {
      "cell_type": "markdown",
      "metadata": {
        "id": "eujKKfpks071"
      },
      "source": [
        "## **K-Nearest Neighbour**"
      ]
    },
    {
      "cell_type": "code",
      "metadata": {
        "id": "5q1nOYUButj_"
      },
      "source": [
        "knn = KNeighborsClassifier(n_neighbors=7)\n",
        "\n",
        "# training our classifier ; train_data.target will be having numbers assigned for each category in train data\n",
        "clf = knn.fit(X_train_tfidf, train_data.target)\n",
        "\n",
        "# Input Data to predict their classes of the given categories\n",
        "docs_new = ['I want to buy a computer.', 'I have a television at my home.']\n",
        "\n",
        "X_new_counts = count_vect.transform(docs_new)\n",
        "X_new_tfidf = tfidf_transformer.transform(X_new_counts)"
      ],
      "execution_count": null,
      "outputs": []
    },
    {
      "cell_type": "code",
      "metadata": {
        "colab": {
          "base_uri": "https://localhost:8080/"
        },
        "id": "KpRQRg2autkA",
        "outputId": "458ca1d9-bae9-4d90-afeb-b3ae4dd684df"
      },
      "source": [
        "# predicting the category of our input text: Will give out number for category\n",
        "predicted = clf.predict(X_new_tfidf)\n",
        "\n",
        "for doc, category in zip(docs_new, predicted):\n",
        "    print('%r => %s' % (doc, train_data.target_names[category]))\n",
        "\n",
        "\n",
        "    "
      ],
      "execution_count": null,
      "outputs": [
        {
          "output_type": "stream",
          "text": [
            "'I want to buy a computer.' => sci.electronics\n",
            "'I have a television at my home.' => comp.graphics\n"
          ],
          "name": "stdout"
        }
      ]
    },
    {
      "cell_type": "code",
      "metadata": {
        "colab": {
          "base_uri": "https://localhost:8080/"
        },
        "id": "nlkOOtVmutkB",
        "outputId": "154d7b39-73a6-4bae-e910-63342064984f"
      },
      "source": [
        "text_clf = Pipeline([\n",
        "    ('vect', CountVectorizer()),\n",
        "    ('tfidf', TfidfTransformer()),\n",
        "    ('clf', knn),\n",
        "])\n",
        "\n",
        "# Fitting our train data to the pipeline\n",
        "text_clf.fit(train_data.data, train_data.target)\n",
        "\n",
        "# Test data \n",
        "test_data = fetch_20newsgroups(subset='test',\n",
        "                               categories=categories, shuffle=True, random_state=42)\n",
        "docs_test = test_data.data\n",
        "# Predicting our test data\n",
        "predicted = text_clf.predict(docs_test)\n",
        "print('Accuracy :',np.mean(predicted == test_data.target)*100,'%')\n"
      ],
      "execution_count": null,
      "outputs": [
        {
          "output_type": "stream",
          "text": [
            "Accuracy : 82.67766497461929 %\n"
          ],
          "name": "stdout"
        }
      ]
    },
    {
      "cell_type": "markdown",
      "metadata": {
        "id": "x_QrRY922k1D"
      },
      "source": [
        "## **Naive bayes**"
      ]
    },
    {
      "cell_type": "code",
      "metadata": {
        "colab": {
          "base_uri": "https://localhost:8080/"
        },
        "id": "cyhHjDE-3xWu",
        "outputId": "58d1cd46-a85d-48fe-e02f-859725c9aea2"
      },
      "source": [
        "from sklearn.model_selection import train_test_split\n",
        "\n",
        "X_train, X_test, y_train, y_test = train_test_split(X_train_tfidf, train_data.target, test_size=0.30, random_state=42)\n",
        "\n",
        "print('Training Data Shape:', X_train.shape)\n",
        "print('Testing Data Shape: ', X_test.shape)"
      ],
      "execution_count": null,
      "outputs": [
        {
          "output_type": "stream",
          "text": [
            "Training Data Shape: (1656, 35653)\n",
            "Testing Data Shape:  (711, 35653)\n"
          ],
          "name": "stdout"
        }
      ]
    },
    {
      "cell_type": "code",
      "metadata": {
        "id": "Rs72Y0jr4RH7",
        "colab": {
          "base_uri": "https://localhost:8080/"
        },
        "outputId": "0ec8c584-1cad-4278-abc8-9a74b0cdeeac"
      },
      "source": [
        "y1=X_train.todense()\n",
        "y1"
      ],
      "execution_count": null,
      "outputs": [
        {
          "output_type": "execute_result",
          "data": {
            "text/plain": [
              "matrix([[0.        , 0.        , 0.        , ..., 0.        , 0.        ,\n",
              "         0.        ],\n",
              "        [0.        , 0.        , 0.        , ..., 0.        , 0.        ,\n",
              "         0.        ],\n",
              "        [0.        , 0.        , 0.        , ..., 0.        , 0.        ,\n",
              "         0.        ],\n",
              "        ...,\n",
              "        [0.        , 0.00508825, 0.        , ..., 0.        , 0.        ,\n",
              "         0.        ],\n",
              "        [0.        , 0.        , 0.        , ..., 0.        , 0.        ,\n",
              "         0.        ],\n",
              "        [0.        , 0.        , 0.        , ..., 0.        , 0.        ,\n",
              "         0.        ]])"
            ]
          },
          "metadata": {
            "tags": []
          },
          "execution_count": 22
        }
      ]
    },
    {
      "cell_type": "code",
      "metadata": {
        "colab": {
          "base_uri": "https://localhost:8080/"
        },
        "id": "mDxyCa3lydaQ",
        "outputId": "c219cd66-cf20-4b0f-ce94-ed564dbfaa0d"
      },
      "source": [
        "from sklearn.naive_bayes import GaussianNB\n",
        "lr_model = GaussianNB()\n",
        "lr_model.fit(y1, y_train)"
      ],
      "execution_count": null,
      "outputs": [
        {
          "output_type": "execute_result",
          "data": {
            "text/plain": [
              "GaussianNB(priors=None, var_smoothing=1e-09)"
            ]
          },
          "metadata": {
            "tags": []
          },
          "execution_count": 23
        }
      ]
    },
    {
      "cell_type": "code",
      "metadata": {
        "id": "v54MyQc14sk7",
        "colab": {
          "base_uri": "https://localhost:8080/"
        },
        "outputId": "dff155a4-eb3b-4ba9-c0c7-cad5cd0c8467"
      },
      "source": [
        "y2=X_test.todense()\n",
        "y2"
      ],
      "execution_count": null,
      "outputs": [
        {
          "output_type": "execute_result",
          "data": {
            "text/plain": [
              "matrix([[0., 0., 0., ..., 0., 0., 0.],\n",
              "        [0., 0., 0., ..., 0., 0., 0.],\n",
              "        [0., 0., 0., ..., 0., 0., 0.],\n",
              "        ...,\n",
              "        [0., 0., 0., ..., 0., 0., 0.],\n",
              "        [0., 0., 0., ..., 0., 0., 0.],\n",
              "        [0., 0., 0., ..., 0., 0., 0.]])"
            ]
          },
          "metadata": {
            "tags": []
          },
          "execution_count": 24
        }
      ]
    },
    {
      "cell_type": "code",
      "metadata": {
        "id": "oC-0VQbGyde-",
        "colab": {
          "base_uri": "https://localhost:8080/"
        },
        "outputId": "bf97adfb-7ad1-4dfe-a15d-a6fef05badfa"
      },
      "source": [
        "predictions = lr_model.predict(y2)\n",
        "predictions"
      ],
      "execution_count": null,
      "outputs": [
        {
          "output_type": "execute_result",
          "data": {
            "text/plain": [
              "array([2, 0, 2, 1, 2, 3, 0, 1, 1, 3, 3, 2, 3, 1, 3, 3, 2, 0, 0, 3, 0, 3,\n",
              "       0, 2, 3, 1, 2, 1, 0, 0, 3, 3, 1, 1, 3, 2, 0, 0, 3, 3, 1, 1, 0, 3,\n",
              "       0, 1, 3, 0, 1, 3, 3, 0, 2, 0, 3, 3, 3, 0, 3, 1, 1, 1, 2, 0, 2, 2,\n",
              "       3, 2, 1, 1, 2, 0, 0, 0, 2, 2, 0, 3, 2, 1, 2, 2, 1, 3, 3, 3, 3, 1,\n",
              "       1, 0, 3, 1, 1, 1, 3, 1, 0, 1, 3, 0, 3, 1, 0, 0, 0, 0, 3, 1, 0, 1,\n",
              "       2, 0, 3, 1, 2, 0, 1, 3, 1, 0, 1, 1, 2, 0, 3, 0, 3, 3, 1, 0, 1, 2,\n",
              "       3, 1, 3, 2, 2, 1, 2, 3, 0, 1, 1, 0, 2, 0, 1, 3, 3, 3, 0, 1, 1, 1,\n",
              "       2, 1, 1, 0, 1, 3, 0, 2, 2, 2, 0, 1, 3, 1, 2, 1, 1, 2, 1, 2, 3, 3,\n",
              "       1, 3, 2, 0, 1, 1, 2, 1, 3, 3, 0, 2, 3, 2, 2, 1, 0, 3, 3, 1, 3, 1,\n",
              "       1, 0, 0, 3, 2, 3, 1, 0, 0, 0, 0, 0, 0, 3, 2, 3, 1, 3, 2, 2, 3, 1,\n",
              "       2, 1, 0, 1, 3, 0, 1, 0, 3, 2, 1, 0, 2, 1, 3, 1, 1, 0, 0, 2, 3, 3,\n",
              "       2, 0, 1, 1, 1, 1, 0, 1, 1, 2, 2, 2, 3, 3, 3, 1, 1, 0, 1, 1, 0, 3,\n",
              "       1, 0, 0, 2, 3, 0, 2, 3, 0, 1, 2, 0, 0, 1, 3, 0, 3, 1, 2, 2, 2, 1,\n",
              "       0, 0, 3, 2, 3, 0, 2, 0, 0, 3, 3, 0, 0, 3, 3, 2, 0, 3, 2, 3, 2, 1,\n",
              "       3, 3, 2, 0, 0, 2, 2, 1, 2, 1, 3, 0, 3, 1, 3, 1, 1, 2, 1, 3, 0, 1,\n",
              "       0, 0, 1, 2, 2, 1, 0, 0, 3, 3, 2, 2, 1, 2, 2, 3, 3, 1, 1, 1, 2, 2,\n",
              "       1, 3, 0, 0, 2, 0, 2, 1, 3, 1, 0, 2, 3, 1, 3, 0, 2, 2, 1, 1, 0, 1,\n",
              "       3, 1, 0, 1, 3, 3, 2, 0, 2, 3, 1, 2, 3, 3, 2, 3, 0, 2, 0, 3, 3, 0,\n",
              "       3, 3, 0, 3, 3, 3, 0, 3, 3, 2, 3, 2, 3, 1, 0, 3, 2, 0, 2, 3, 3, 0,\n",
              "       3, 2, 0, 0, 2, 1, 1, 1, 0, 1, 0, 0, 1, 2, 3, 3, 1, 0, 0, 2, 2, 2,\n",
              "       3, 0, 3, 1, 0, 3, 2, 3, 0, 1, 2, 1, 2, 3, 1, 2, 0, 2, 3, 3, 0, 1,\n",
              "       2, 0, 3, 2, 3, 3, 2, 2, 2, 3, 0, 3, 2, 2, 1, 1, 0, 1, 3, 3, 1, 0,\n",
              "       3, 0, 0, 2, 3, 3, 1, 3, 2, 1, 3, 3, 1, 0, 0, 2, 2, 1, 0, 3, 2, 3,\n",
              "       2, 3, 2, 2, 1, 2, 3, 3, 0, 3, 1, 3, 2, 2, 3, 3, 1, 0, 0, 1, 2, 2,\n",
              "       3, 1, 3, 1, 3, 2, 2, 1, 3, 2, 1, 1, 0, 0, 0, 1, 3, 2, 1, 3, 1, 0,\n",
              "       0, 2, 1, 1, 0, 0, 3, 3, 2, 2, 0, 1, 0, 2, 1, 0, 0, 1, 1, 0, 1, 0,\n",
              "       1, 2, 3, 1, 2, 2, 0, 2, 1, 2, 2, 1, 1, 1, 1, 3, 2, 2, 3, 3, 0, 2,\n",
              "       0, 2, 0, 3, 2, 3, 2, 3, 2, 0, 0, 1, 1, 0, 0, 3, 2, 0, 1, 3, 0, 1,\n",
              "       0, 1, 0, 0, 0, 0, 3, 2, 0, 2, 3, 1, 3, 0, 1, 0, 2, 3, 0, 3, 2, 0,\n",
              "       1, 2, 1, 2, 2, 2, 3, 1, 3, 1, 3, 2, 0, 2, 1, 0, 0, 3, 2, 2, 0, 3,\n",
              "       2, 0, 1, 2, 3, 0, 0, 0, 1, 1, 1, 1, 3, 2, 2, 1, 0, 0, 1, 1, 3, 2,\n",
              "       3, 0, 2, 3, 3, 2, 1, 2, 2, 0, 3, 1, 1, 3, 1, 3, 3, 0, 1, 3, 3, 3,\n",
              "       1, 3, 1, 2, 1, 1, 0])"
            ]
          },
          "metadata": {
            "tags": []
          },
          "execution_count": 17
        }
      ]
    },
    {
      "cell_type": "markdown",
      "metadata": {
        "id": "euhG5HmixMUV"
      },
      "source": [
        "### CONFUSION MATRIX"
      ]
    },
    {
      "cell_type": "code",
      "metadata": {
        "colab": {
          "base_uri": "https://localhost:8080/"
        },
        "id": "M36OSXeB4r0P",
        "outputId": "d558496a-09ba-454c-ed2e-02554fd59526"
      },
      "source": [
        "from sklearn import metrics\n",
        "print(metrics.confusion_matrix(y_test,predictions))"
      ],
      "execution_count": null,
      "outputs": [
        {
          "output_type": "stream",
          "text": [
            "[[150   1   9   7]\n",
            " [  4 177   3   5]\n",
            " [ 18   4 144   6]\n",
            " [  1   2   8 172]]\n"
          ],
          "name": "stdout"
        }
      ]
    },
    {
      "cell_type": "markdown",
      "metadata": {
        "id": "-Lwbx5VSxU0F"
      },
      "source": [
        "### CLASSIFICATION SUMMARY"
      ]
    },
    {
      "cell_type": "code",
      "metadata": {
        "colab": {
          "base_uri": "https://localhost:8080/"
        },
        "id": "MFtNFzLQydit",
        "outputId": "aac7d017-af45-4f5f-900e-134e2dba8558"
      },
      "source": [
        "print(metrics.classification_report(y_test,predictions))"
      ],
      "execution_count": null,
      "outputs": [
        {
          "output_type": "stream",
          "text": [
            "              precision    recall  f1-score   support\n",
            "\n",
            "           0       0.95      0.96      0.96       167\n",
            "           1       0.97      0.99      0.98       189\n",
            "           2       0.95      0.95      0.95       172\n",
            "           3       0.98      0.96      0.97       183\n",
            "\n",
            "    accuracy                           0.97       711\n",
            "   macro avg       0.97      0.97      0.97       711\n",
            "weighted avg       0.97      0.97      0.97       711\n",
            "\n"
          ],
          "name": "stdout"
        }
      ]
    },
    {
      "cell_type": "code",
      "metadata": {
        "colab": {
          "base_uri": "https://localhost:8080/"
        },
        "id": "i8zKVc6ev4Jc",
        "outputId": "7beb4ae8-f29b-4364-a2bb-182aff1e88d9"
      },
      "source": [
        "print('Accuracy :',metrics.accuracy_score(y_test,predictions)*100,'%')"
      ],
      "execution_count": null,
      "outputs": [
        {
          "output_type": "stream",
          "text": [
            "Accuracy : 90.43600562587905 %\n"
          ],
          "name": "stdout"
        }
      ]
    },
    {
      "cell_type": "markdown",
      "metadata": {
        "id": "pMSd9QoSxDoH"
      },
      "source": [
        "## **Multinomial Naive Bayes**"
      ]
    },
    {
      "cell_type": "code",
      "metadata": {
        "colab": {
          "base_uri": "https://localhost:8080/"
        },
        "id": "BoHCsTWoxPah",
        "outputId": "e4c388b3-44a8-4dde-b82b-1e5e5c43e6fb"
      },
      "source": [
        "from sklearn.model_selection import train_test_split\n",
        "\n",
        "X_train, X_test, y_train, y_test = train_test_split(X_train_tfidf, train_data.target, test_size=0.30, random_state=42)\n",
        "\n",
        "print('Training Data Shape:', X_train.shape)\n",
        "print('Testing Data Shape: ', X_test.shape)"
      ],
      "execution_count": null,
      "outputs": [
        {
          "output_type": "stream",
          "text": [
            "Training Data Shape: (1656, 35653)\n",
            "Testing Data Shape:  (711, 35653)\n"
          ],
          "name": "stdout"
        }
      ]
    },
    {
      "cell_type": "code",
      "metadata": {
        "colab": {
          "base_uri": "https://localhost:8080/"
        },
        "id": "g_A7SUR4xuZ8",
        "outputId": "a3d5b702-9d21-495e-ba54-12ef6a27cba5"
      },
      "source": [
        "from sklearn.naive_bayes import MultinomialNB\n",
        "lr_model = MultinomialNB()\n",
        "lr_model.fit(X_train, y_train)\n"
      ],
      "execution_count": null,
      "outputs": [
        {
          "output_type": "execute_result",
          "data": {
            "text/plain": [
              "MultinomialNB(alpha=1.0, class_prior=None, fit_prior=True)"
            ]
          },
          "metadata": {
            "tags": []
          },
          "execution_count": 26
        }
      ]
    },
    {
      "cell_type": "code",
      "metadata": {
        "id": "T1sM0Z0vxuop",
        "colab": {
          "base_uri": "https://localhost:8080/"
        },
        "outputId": "500a8c8e-2859-4d4f-b2ea-ccba4d4098e6"
      },
      "source": [
        "predictions = lr_model.predict(X_test)\n",
        "predictions"
      ],
      "execution_count": null,
      "outputs": [
        {
          "output_type": "execute_result",
          "data": {
            "text/plain": [
              "array([2, 2, 2, 1, 2, 3, 0, 1, 1, 3, 3, 2, 3, 1, 3, 3, 2, 0, 0, 3, 0, 1,\n",
              "       0, 2, 3, 1, 3, 1, 0, 0, 3, 3, 1, 1, 3, 2, 0, 0, 3, 3, 1, 1, 2, 3,\n",
              "       0, 1, 3, 0, 1, 3, 3, 0, 2, 0, 1, 3, 3, 0, 3, 1, 1, 1, 2, 0, 2, 3,\n",
              "       2, 2, 1, 1, 2, 0, 0, 0, 2, 2, 0, 3, 2, 1, 2, 2, 1, 3, 3, 3, 1, 1,\n",
              "       1, 0, 3, 1, 1, 1, 3, 1, 0, 1, 3, 0, 3, 2, 0, 0, 0, 0, 3, 1, 0, 1,\n",
              "       2, 0, 3, 1, 2, 2, 1, 3, 1, 0, 1, 1, 2, 0, 3, 3, 1, 3, 1, 0, 1, 2,\n",
              "       3, 1, 3, 2, 3, 1, 2, 3, 0, 1, 1, 0, 2, 0, 3, 2, 3, 3, 2, 1, 1, 1,\n",
              "       2, 1, 1, 0, 1, 3, 0, 2, 2, 2, 0, 1, 3, 1, 2, 1, 1, 2, 1, 2, 3, 3,\n",
              "       1, 3, 2, 0, 1, 1, 2, 1, 0, 3, 0, 2, 3, 2, 2, 1, 0, 3, 0, 1, 3, 1,\n",
              "       1, 2, 3, 3, 2, 3, 1, 0, 0, 0, 0, 2, 0, 3, 2, 3, 1, 3, 2, 2, 3, 1,\n",
              "       2, 1, 0, 1, 3, 0, 1, 0, 3, 2, 1, 0, 1, 1, 3, 1, 1, 0, 0, 2, 3, 3,\n",
              "       2, 0, 0, 1, 1, 1, 0, 1, 1, 2, 2, 3, 3, 3, 3, 1, 1, 0, 1, 1, 0, 3,\n",
              "       1, 0, 0, 2, 3, 0, 2, 3, 0, 1, 2, 0, 0, 1, 3, 0, 3, 1, 2, 2, 2, 1,\n",
              "       2, 0, 3, 2, 3, 0, 2, 0, 0, 3, 1, 0, 0, 1, 3, 2, 0, 3, 2, 3, 2, 1,\n",
              "       3, 3, 2, 0, 0, 2, 2, 1, 2, 1, 3, 0, 3, 1, 3, 1, 1, 2, 1, 3, 0, 1,\n",
              "       0, 0, 1, 0, 2, 1, 0, 0, 3, 0, 2, 2, 1, 2, 2, 3, 3, 1, 1, 1, 2, 2,\n",
              "       1, 3, 0, 2, 2, 2, 2, 1, 3, 1, 0, 2, 3, 1, 3, 0, 2, 2, 1, 1, 0, 1,\n",
              "       3, 1, 0, 1, 3, 3, 2, 0, 2, 3, 1, 2, 2, 3, 1, 3, 0, 2, 0, 3, 3, 0,\n",
              "       3, 3, 0, 3, 3, 3, 0, 3, 3, 2, 1, 2, 3, 1, 0, 3, 2, 0, 2, 3, 3, 0,\n",
              "       3, 2, 0, 0, 2, 1, 1, 1, 0, 1, 1, 0, 2, 2, 3, 3, 1, 0, 0, 3, 2, 2,\n",
              "       3, 0, 3, 1, 0, 3, 2, 3, 0, 1, 2, 1, 2, 3, 1, 2, 0, 0, 3, 3, 0, 1,\n",
              "       2, 0, 2, 2, 3, 3, 2, 2, 2, 3, 0, 3, 2, 2, 1, 1, 0, 1, 3, 3, 1, 0,\n",
              "       3, 0, 0, 2, 3, 3, 1, 3, 0, 1, 0, 3, 1, 1, 0, 0, 2, 1, 0, 2, 2, 3,\n",
              "       2, 3, 2, 2, 1, 2, 3, 3, 0, 3, 1, 3, 2, 2, 3, 3, 1, 0, 0, 1, 2, 2,\n",
              "       3, 1, 3, 1, 3, 2, 2, 1, 3, 2, 1, 1, 2, 0, 0, 1, 3, 2, 1, 0, 1, 0,\n",
              "       0, 2, 1, 1, 0, 1, 3, 2, 2, 2, 0, 1, 0, 2, 1, 0, 0, 1, 1, 0, 3, 0,\n",
              "       1, 2, 3, 1, 2, 2, 0, 0, 1, 2, 2, 1, 1, 1, 1, 3, 2, 2, 3, 3, 0, 3,\n",
              "       0, 2, 2, 3, 0, 3, 2, 0, 2, 0, 0, 1, 1, 2, 0, 3, 0, 0, 1, 3, 0, 2,\n",
              "       0, 1, 0, 0, 0, 1, 1, 2, 0, 2, 0, 1, 3, 0, 1, 0, 2, 3, 0, 3, 2, 0,\n",
              "       1, 2, 1, 2, 2, 2, 3, 3, 2, 1, 3, 2, 2, 2, 1, 0, 0, 3, 2, 2, 0, 3,\n",
              "       2, 0, 1, 1, 3, 0, 0, 0, 1, 1, 1, 1, 3, 2, 2, 1, 0, 2, 1, 1, 3, 2,\n",
              "       3, 0, 2, 3, 3, 2, 1, 2, 2, 0, 3, 1, 1, 3, 1, 0, 3, 0, 1, 3, 3, 3,\n",
              "       1, 3, 1, 2, 1, 1, 0])"
            ]
          },
          "metadata": {
            "tags": []
          },
          "execution_count": 27
        }
      ]
    },
    {
      "cell_type": "markdown",
      "metadata": {
        "id": "kDY6auAIwsrM"
      },
      "source": [
        "### CONFUSION MATRIX"
      ]
    },
    {
      "cell_type": "code",
      "metadata": {
        "colab": {
          "base_uri": "https://localhost:8080/"
        },
        "id": "TF6yb4VkxusV",
        "outputId": "95d7f2f5-955a-4808-a1e6-a8078e7776cf"
      },
      "source": [
        "from sklearn import metrics\n",
        "print(metrics.confusion_matrix(y_test,predictions))"
      ],
      "execution_count": null,
      "outputs": [
        {
          "output_type": "stream",
          "text": [
            "[[161   0   4   2]\n",
            " [  0 187   1   1]\n",
            " [  5   3 164   0]\n",
            " [  3   2   3 175]]\n"
          ],
          "name": "stdout"
        }
      ]
    },
    {
      "cell_type": "markdown",
      "metadata": {
        "id": "-E_AjFCZwyAi"
      },
      "source": [
        "### CLASSIFICATION SUMMARY"
      ]
    },
    {
      "cell_type": "code",
      "metadata": {
        "colab": {
          "base_uri": "https://localhost:8080/"
        },
        "id": "U7dgcliMxuxh",
        "outputId": "978279d4-c4a8-45e1-f045-fbbc12e81bba"
      },
      "source": [
        "print(metrics.classification_report(y_test,predictions))"
      ],
      "execution_count": null,
      "outputs": [
        {
          "output_type": "stream",
          "text": [
            "              precision    recall  f1-score   support\n",
            "\n",
            "           0       0.95      0.96      0.96       167\n",
            "           1       0.97      0.99      0.98       189\n",
            "           2       0.95      0.95      0.95       172\n",
            "           3       0.98      0.96      0.97       183\n",
            "\n",
            "    accuracy                           0.97       711\n",
            "   macro avg       0.97      0.97      0.97       711\n",
            "weighted avg       0.97      0.97      0.97       711\n",
            "\n"
          ],
          "name": "stdout"
        }
      ]
    },
    {
      "cell_type": "code",
      "metadata": {
        "colab": {
          "base_uri": "https://localhost:8080/"
        },
        "id": "rm5QlXj_yQ4p",
        "outputId": "8006cea7-f145-4bb6-b355-f593042bc4b8"
      },
      "source": [
        "print(\"Accuracy:  \",metrics.accuracy_score(y_test,predictions)*100,'%')"
      ],
      "execution_count": null,
      "outputs": [
        {
          "output_type": "stream",
          "text": [
            "Accuracy:   96.62447257383965 %\n"
          ],
          "name": "stdout"
        }
      ]
    }
  ]
}