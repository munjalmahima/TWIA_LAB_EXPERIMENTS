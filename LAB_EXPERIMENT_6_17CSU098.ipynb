{
  "nbformat": 4,
  "nbformat_minor": 0,
  "metadata": {
    "kernelspec": {
      "name": "python3",
      "display_name": "Python 3",
      "language": "python"
    },
    "language_info": {
      "name": "python",
      "version": "3.7.6",
      "mimetype": "text/x-python",
      "codemirror_mode": {
        "name": "ipython",
        "version": 3
      },
      "pygments_lexer": "ipython3",
      "nbconvert_exporter": "python",
      "file_extension": ".py"
    },
    "colab": {
      "name": "LAB_PRACTICAL_6_17CSU098.ipynb",
      "provenance": []
    }
  },
  "cells": [
    {
      "cell_type": "markdown",
      "metadata": {
        "id": "IDnmjqbRJ93f"
      },
      "source": [
        "#**TEXT AND WEB ANALYTICS**\n",
        "\n",
        "##**LAB PRACTICAL 6**\n",
        "\n",
        "###**MAHIMA MUNJAL** \n",
        "\n",
        "###**17CSU098**"
      ]
    },
    {
      "cell_type": "code",
      "metadata": {
        "_uuid": "8f2839f25d086af736a60e9eeb907d3b93b6e0e5",
        "_cell_guid": "b1076dfc-b9ad-4769-8c92-a6c4dae69d19",
        "trusted": true,
        "id": "aisusX1AJ851"
      },
      "source": [
        "import numpy as np \n",
        "import pandas as pd "
      ],
      "execution_count": 1,
      "outputs": []
    },
    {
      "cell_type": "code",
      "metadata": {
        "colab": {
          "resources": {
            "http://localhost:8080/nbextensions/google.colab/files.js": {
              "data": "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",
              "ok": true,
              "headers": [
                [
                  "content-type",
                  "application/javascript"
                ]
              ],
              "status": 200,
              "status_text": ""
            }
          },
          "base_uri": "https://localhost:8080/",
          "height": 72
        },
        "id": "Wa_vm8SpKKCG",
        "outputId": "76531389-8a39-40bf-93c3-36780ab46808"
      },
      "source": [
        "from google.colab import files\n",
        "uploaded = files.upload()"
      ],
      "execution_count": 3,
      "outputs": [
        {
          "output_type": "display_data",
          "data": {
            "text/html": [
              "\n",
              "     <input type=\"file\" id=\"files-ab1bc1c3-4279-44f1-a4e5-f08203883cd4\" name=\"files[]\" multiple disabled\n",
              "        style=\"border:none\" />\n",
              "     <output id=\"result-ab1bc1c3-4279-44f1-a4e5-f08203883cd4\">\n",
              "      Upload widget is only available when the cell has been executed in the\n",
              "      current browser session. Please rerun this cell to enable.\n",
              "      </output>\n",
              "      <script src=\"/nbextensions/google.colab/files.js\"></script> "
            ],
            "text/plain": [
              "<IPython.core.display.HTML object>"
            ]
          },
          "metadata": {
            "tags": []
          }
        },
        {
          "output_type": "stream",
          "text": [
            "Saving abcnews-date-text.csv to abcnews-date-text (2).csv\n"
          ],
          "name": "stdout"
        }
      ]
    },
    {
      "cell_type": "code",
      "metadata": {
        "_uuid": "d629ff2d2480ee46fbb7e2d37f6b5fab8052498a",
        "_cell_guid": "79c7e3d0-c299-4dcb-8224-4455121ee9b0",
        "trusted": true,
        "colab": {
          "base_uri": "https://localhost:8080/",
          "height": 407
        },
        "id": "EUwgrvYrJ853",
        "outputId": "f1b86578-8d94-4e5d-ce90-82a0bc60420c"
      },
      "source": [
        "import io\n",
        "data = pd.read_csv(io.BytesIO(uploaded['abcnews-date-text.csv']),error_bad_lines=False)\n",
        "data"
      ],
      "execution_count": 4,
      "outputs": [
        {
          "output_type": "execute_result",
          "data": {
            "text/html": [
              "<div>\n",
              "<style scoped>\n",
              "    .dataframe tbody tr th:only-of-type {\n",
              "        vertical-align: middle;\n",
              "    }\n",
              "\n",
              "    .dataframe tbody tr th {\n",
              "        vertical-align: top;\n",
              "    }\n",
              "\n",
              "    .dataframe thead th {\n",
              "        text-align: right;\n",
              "    }\n",
              "</style>\n",
              "<table border=\"1\" class=\"dataframe\">\n",
              "  <thead>\n",
              "    <tr style=\"text-align: right;\">\n",
              "      <th></th>\n",
              "      <th>publish_date</th>\n",
              "      <th>headline_text</th>\n",
              "    </tr>\n",
              "  </thead>\n",
              "  <tbody>\n",
              "    <tr>\n",
              "      <th>0</th>\n",
              "      <td>20030219</td>\n",
              "      <td>aba decides against community broadcasting lic...</td>\n",
              "    </tr>\n",
              "    <tr>\n",
              "      <th>1</th>\n",
              "      <td>20030219</td>\n",
              "      <td>act fire witnesses must be aware of defamation</td>\n",
              "    </tr>\n",
              "    <tr>\n",
              "      <th>2</th>\n",
              "      <td>20030219</td>\n",
              "      <td>a g calls for infrastructure protection summit</td>\n",
              "    </tr>\n",
              "    <tr>\n",
              "      <th>3</th>\n",
              "      <td>20030219</td>\n",
              "      <td>air nz staff in aust strike for pay rise</td>\n",
              "    </tr>\n",
              "    <tr>\n",
              "      <th>4</th>\n",
              "      <td>20030219</td>\n",
              "      <td>air nz strike to affect australian travellers</td>\n",
              "    </tr>\n",
              "    <tr>\n",
              "      <th>...</th>\n",
              "      <td>...</td>\n",
              "      <td>...</td>\n",
              "    </tr>\n",
              "    <tr>\n",
              "      <th>1226253</th>\n",
              "      <td>20201231</td>\n",
              "      <td>what abc readers learned from 2020 looking bac...</td>\n",
              "    </tr>\n",
              "    <tr>\n",
              "      <th>1226254</th>\n",
              "      <td>20201231</td>\n",
              "      <td>what are the south african and uk variants of ...</td>\n",
              "    </tr>\n",
              "    <tr>\n",
              "      <th>1226255</th>\n",
              "      <td>20201231</td>\n",
              "      <td>what victorias coronavirus restrictions mean f...</td>\n",
              "    </tr>\n",
              "    <tr>\n",
              "      <th>1226256</th>\n",
              "      <td>20201231</td>\n",
              "      <td>whats life like as an american doctor during c...</td>\n",
              "    </tr>\n",
              "    <tr>\n",
              "      <th>1226257</th>\n",
              "      <td>20201231</td>\n",
              "      <td>womens shed canberra reskilling unemployed pan...</td>\n",
              "    </tr>\n",
              "  </tbody>\n",
              "</table>\n",
              "<p>1226258 rows × 2 columns</p>\n",
              "</div>"
            ],
            "text/plain": [
              "         publish_date                                      headline_text\n",
              "0            20030219  aba decides against community broadcasting lic...\n",
              "1            20030219     act fire witnesses must be aware of defamation\n",
              "2            20030219     a g calls for infrastructure protection summit\n",
              "3            20030219           air nz staff in aust strike for pay rise\n",
              "4            20030219      air nz strike to affect australian travellers\n",
              "...               ...                                                ...\n",
              "1226253      20201231  what abc readers learned from 2020 looking bac...\n",
              "1226254      20201231  what are the south african and uk variants of ...\n",
              "1226255      20201231  what victorias coronavirus restrictions mean f...\n",
              "1226256      20201231  whats life like as an american doctor during c...\n",
              "1226257      20201231  womens shed canberra reskilling unemployed pan...\n",
              "\n",
              "[1226258 rows x 2 columns]"
            ]
          },
          "metadata": {
            "tags": []
          },
          "execution_count": 4
        }
      ]
    },
    {
      "cell_type": "code",
      "metadata": {
        "colab": {
          "base_uri": "https://localhost:8080/",
          "height": 407
        },
        "id": "5xtkscG7y-Lj",
        "outputId": "1a9a7afb-167f-45e0-eb3f-cf0b27e17b2d"
      },
      "source": [
        "data_text = data[['headline_text']]\n",
        "data_text['index'] = data_text.index\n",
        "documents = data_text\n",
        "documents"
      ],
      "execution_count": 5,
      "outputs": [
        {
          "output_type": "execute_result",
          "data": {
            "text/html": [
              "<div>\n",
              "<style scoped>\n",
              "    .dataframe tbody tr th:only-of-type {\n",
              "        vertical-align: middle;\n",
              "    }\n",
              "\n",
              "    .dataframe tbody tr th {\n",
              "        vertical-align: top;\n",
              "    }\n",
              "\n",
              "    .dataframe thead th {\n",
              "        text-align: right;\n",
              "    }\n",
              "</style>\n",
              "<table border=\"1\" class=\"dataframe\">\n",
              "  <thead>\n",
              "    <tr style=\"text-align: right;\">\n",
              "      <th></th>\n",
              "      <th>headline_text</th>\n",
              "      <th>index</th>\n",
              "    </tr>\n",
              "  </thead>\n",
              "  <tbody>\n",
              "    <tr>\n",
              "      <th>0</th>\n",
              "      <td>aba decides against community broadcasting lic...</td>\n",
              "      <td>0</td>\n",
              "    </tr>\n",
              "    <tr>\n",
              "      <th>1</th>\n",
              "      <td>act fire witnesses must be aware of defamation</td>\n",
              "      <td>1</td>\n",
              "    </tr>\n",
              "    <tr>\n",
              "      <th>2</th>\n",
              "      <td>a g calls for infrastructure protection summit</td>\n",
              "      <td>2</td>\n",
              "    </tr>\n",
              "    <tr>\n",
              "      <th>3</th>\n",
              "      <td>air nz staff in aust strike for pay rise</td>\n",
              "      <td>3</td>\n",
              "    </tr>\n",
              "    <tr>\n",
              "      <th>4</th>\n",
              "      <td>air nz strike to affect australian travellers</td>\n",
              "      <td>4</td>\n",
              "    </tr>\n",
              "    <tr>\n",
              "      <th>...</th>\n",
              "      <td>...</td>\n",
              "      <td>...</td>\n",
              "    </tr>\n",
              "    <tr>\n",
              "      <th>1226253</th>\n",
              "      <td>what abc readers learned from 2020 looking bac...</td>\n",
              "      <td>1226253</td>\n",
              "    </tr>\n",
              "    <tr>\n",
              "      <th>1226254</th>\n",
              "      <td>what are the south african and uk variants of ...</td>\n",
              "      <td>1226254</td>\n",
              "    </tr>\n",
              "    <tr>\n",
              "      <th>1226255</th>\n",
              "      <td>what victorias coronavirus restrictions mean f...</td>\n",
              "      <td>1226255</td>\n",
              "    </tr>\n",
              "    <tr>\n",
              "      <th>1226256</th>\n",
              "      <td>whats life like as an american doctor during c...</td>\n",
              "      <td>1226256</td>\n",
              "    </tr>\n",
              "    <tr>\n",
              "      <th>1226257</th>\n",
              "      <td>womens shed canberra reskilling unemployed pan...</td>\n",
              "      <td>1226257</td>\n",
              "    </tr>\n",
              "  </tbody>\n",
              "</table>\n",
              "<p>1226258 rows × 2 columns</p>\n",
              "</div>"
            ],
            "text/plain": [
              "                                             headline_text    index\n",
              "0        aba decides against community broadcasting lic...        0\n",
              "1           act fire witnesses must be aware of defamation        1\n",
              "2           a g calls for infrastructure protection summit        2\n",
              "3                 air nz staff in aust strike for pay rise        3\n",
              "4            air nz strike to affect australian travellers        4\n",
              "...                                                    ...      ...\n",
              "1226253  what abc readers learned from 2020 looking bac...  1226253\n",
              "1226254  what are the south african and uk variants of ...  1226254\n",
              "1226255  what victorias coronavirus restrictions mean f...  1226255\n",
              "1226256  whats life like as an american doctor during c...  1226256\n",
              "1226257  womens shed canberra reskilling unemployed pan...  1226257\n",
              "\n",
              "[1226258 rows x 2 columns]"
            ]
          },
          "metadata": {
            "tags": []
          },
          "execution_count": 5
        }
      ]
    },
    {
      "cell_type": "code",
      "metadata": {
        "trusted": true,
        "colab": {
          "base_uri": "https://localhost:8080/"
        },
        "id": "KA4VrLouJ855",
        "outputId": "55c21847-5f50-4583-ffb9-101586e493a5"
      },
      "source": [
        "print(len(documents))"
      ],
      "execution_count": 6,
      "outputs": [
        {
          "output_type": "stream",
          "text": [
            "1226258\n"
          ],
          "name": "stdout"
        }
      ]
    },
    {
      "cell_type": "code",
      "metadata": {
        "trusted": true,
        "colab": {
          "base_uri": "https://localhost:8080/"
        },
        "id": "YsJtk-NbJ855",
        "outputId": "2376d309-098b-4c89-a05a-60a0f99b7076"
      },
      "source": [
        "documents.isnull().sum()"
      ],
      "execution_count": 7,
      "outputs": [
        {
          "output_type": "execute_result",
          "data": {
            "text/plain": [
              "headline_text    0\n",
              "index            0\n",
              "dtype: int64"
            ]
          },
          "metadata": {
            "tags": []
          },
          "execution_count": 7
        }
      ]
    },
    {
      "cell_type": "markdown",
      "metadata": {
        "id": "JXk7L6SvJ856"
      },
      "source": [
        "## Data Preprocessing"
      ]
    },
    {
      "cell_type": "code",
      "metadata": {
        "colab": {
          "base_uri": "https://localhost:8080/"
        },
        "id": "0p8AyaUEzQuc",
        "outputId": "8432a0c5-206a-42d2-cb74-df05cc54ddc8"
      },
      "source": [
        "import gensim\n",
        "from gensim.utils import simple_preprocess\n",
        "from gensim.parsing.preprocessing import STOPWORDS\n",
        "from nltk.stem import WordNetLemmatizer, SnowballStemmer\n",
        "from nltk.stem.porter import *\n",
        "import numpy as np\n",
        "np.random.seed(2018)\n",
        "import nltk\n",
        "nltk.download('wordnet')"
      ],
      "execution_count": 8,
      "outputs": [
        {
          "output_type": "stream",
          "text": [
            "[nltk_data] Downloading package wordnet to /root/nltk_data...\n",
            "[nltk_data]   Package wordnet is already up-to-date!\n"
          ],
          "name": "stdout"
        }
      ]
    },
    {
      "cell_type": "code",
      "metadata": {
        "id": "iBIpHsmezXS9"
      },
      "source": [
        "stemmer = SnowballStemmer('english')\n",
        "def lemmatize_stemming(text):\n",
        "    return stemmer.stem(WordNetLemmatizer().lemmatize(text, pos='v'))\n",
        "def preprocess(text):\n",
        "    result = []\n",
        "    for token in gensim.utils.simple_preprocess(text):\n",
        "        if token not in gensim.parsing.preprocessing.STOPWORDS and len(token) > 3:\n",
        "            result.append(lemmatize_stemming(token))\n",
        "    return result"
      ],
      "execution_count": 13,
      "outputs": []
    },
    {
      "cell_type": "code",
      "metadata": {
        "colab": {
          "base_uri": "https://localhost:8080/"
        },
        "id": "SSbMElWHzbum",
        "outputId": "c696aee3-5d52-44ef-c8a8-2203b4a017b5"
      },
      "source": [
        "doc_sample = documents[documents['index'] == 5000].values[0][0]\n",
        "print('Original document: ')\n",
        "words = []\n",
        "for word in doc_sample.split(' '):\n",
        "    words.append(word)\n",
        "print(words)\n",
        "print('\\n\\n Tokenized and Lemmatized document: ')\n",
        "print(preprocess(doc_sample))"
      ],
      "execution_count": 14,
      "outputs": [
        {
          "output_type": "stream",
          "text": [
            "Original document: \n",
            "['staffing', 'rail', 'stations', 'would', 'mean', 'ticket', 'hike']\n",
            "\n",
            "\n",
            " Tokenized and Lemmatized document: \n",
            "['staff', 'rail', 'station', 'mean', 'ticket', 'hike']\n"
          ],
          "name": "stdout"
        }
      ]
    },
    {
      "cell_type": "code",
      "metadata": {
        "colab": {
          "base_uri": "https://localhost:8080/"
        },
        "id": "TKMnBAV00aWr",
        "outputId": "2c8c420b-5a20-4ef4-8663-4bd1d0210160"
      },
      "source": [
        "processed_docs = documents['headline_text'].map(preprocess)\n",
        "processed_docs"
      ],
      "execution_count": 11,
      "outputs": [
        {
          "output_type": "execute_result",
          "data": {
            "text/plain": [
              "0                         [decid, commun, broadcast, licenc]\n",
              "1                                         [wit, awar, defam]\n",
              "2                     [call, infrastructur, protect, summit]\n",
              "3                                [staff, aust, strike, rise]\n",
              "4                       [strike, affect, australian, travel]\n",
              "                                 ...                        \n",
              "1226253                          [reader, learn, look, year]\n",
              "1226254                     [south, african, variant, covid]\n",
              "1226255         [victoria, coronaviru, restrict, mean, year]\n",
              "1226256          [what, life, like, american, doctor, covid]\n",
              "1226257    [women, shed, canberra, reskil, unemploy, pandem]\n",
              "Name: headline_text, Length: 1226258, dtype: object"
            ]
          },
          "metadata": {
            "tags": []
          },
          "execution_count": 11
        }
      ]
    },
    {
      "cell_type": "markdown",
      "metadata": {
        "id": "m78PdwfN2o9I"
      },
      "source": [
        "## Bag of Words"
      ]
    },
    {
      "cell_type": "code",
      "metadata": {
        "colab": {
          "base_uri": "https://localhost:8080/"
        },
        "id": "m-EwA-7U0gor",
        "outputId": "611394e5-50d3-4edf-9e81-950067a266d7"
      },
      "source": [
        "dictionary = gensim.corpora.Dictionary(processed_docs)\n",
        "count = 0\n",
        "for k, v in dictionary.iteritems():\n",
        "    print(k, v)\n",
        "    count += 1\n",
        "    if count > 10:\n",
        "        break"
      ],
      "execution_count": 15,
      "outputs": [
        {
          "output_type": "stream",
          "text": [
            "0 broadcast\n",
            "1 commun\n",
            "2 decid\n",
            "3 licenc\n",
            "4 awar\n",
            "5 defam\n",
            "6 wit\n",
            "7 call\n",
            "8 infrastructur\n",
            "9 protect\n",
            "10 summit\n"
          ],
          "name": "stdout"
        }
      ]
    },
    {
      "cell_type": "code",
      "metadata": {
        "id": "Q-LSsY621qkU"
      },
      "source": [
        "dictionary.filter_extremes(no_below=15, no_above=0.5, keep_n=100000)"
      ],
      "execution_count": 16,
      "outputs": []
    },
    {
      "cell_type": "code",
      "metadata": {
        "colab": {
          "base_uri": "https://localhost:8080/"
        },
        "id": "8VcZROt72PL3",
        "outputId": "c8189f9b-8843-459d-8dfd-84660e34b7e2"
      },
      "source": [
        "bow_corpus = [dictionary.doc2bow(doc) for doc in processed_docs]\n",
        "bow_corpus[5000]"
      ],
      "execution_count": 17,
      "outputs": [
        {
          "output_type": "execute_result",
          "data": {
            "text/plain": [
              "[(13, 1), (237, 1), (1375, 1), (1405, 1), (1430, 1), (1596, 1)]"
            ]
          },
          "metadata": {
            "tags": []
          },
          "execution_count": 17
        }
      ]
    },
    {
      "cell_type": "code",
      "metadata": {
        "colab": {
          "base_uri": "https://localhost:8080/"
        },
        "id": "yYnOXJoM3WvB",
        "outputId": "2bfe4654-6a40-49d0-e2d5-7e719c9bd418"
      },
      "source": [
        "bow_doc = bow_corpus[5000]\n",
        "for i in range(len(bow_doc)):\n",
        "    print(\"Word {} (\\\"{}\\\") appears {} time.\".format(bow_doc[i][0],dictionary[bow_doc[i][0]], bow_doc[i][1]))"
      ],
      "execution_count": 19,
      "outputs": [
        {
          "output_type": "stream",
          "text": [
            "Word 13 (\"staff\") appears 1 time.\n",
            "Word 237 (\"station\") appears 1 time.\n",
            "Word 1375 (\"ticket\") appears 1 time.\n",
            "Word 1405 (\"rail\") appears 1 time.\n",
            "Word 1430 (\"mean\") appears 1 time.\n",
            "Word 1596 (\"hike\") appears 1 time.\n"
          ],
          "name": "stdout"
        }
      ]
    },
    {
      "cell_type": "markdown",
      "metadata": {
        "id": "5DEOhlDkJ85_"
      },
      "source": [
        "## TF-IDF"
      ]
    },
    {
      "cell_type": "code",
      "metadata": {
        "trusted": true,
        "id": "YIuQsrpRJ86A"
      },
      "source": [
        "from gensim import corpora,models\n",
        "tfidf=models.TfidfModel(bow_corpus)"
      ],
      "execution_count": 20,
      "outputs": []
    },
    {
      "cell_type": "code",
      "metadata": {
        "trusted": true,
        "id": "meLtjgl1J86A"
      },
      "source": [
        "corpus_tfidf=tfidf[bow_corpus]"
      ],
      "execution_count": 21,
      "outputs": []
    },
    {
      "cell_type": "code",
      "metadata": {
        "colab": {
          "base_uri": "https://localhost:8080/"
        },
        "id": "Bo7gZqj64JPr",
        "outputId": "a1cf019a-a68c-4419-c30a-f8acf2f7b876"
      },
      "source": [
        "from pprint import pprint\n",
        "for doc in corpus_tfidf:\n",
        "    pprint(doc)\n",
        "    break"
      ],
      "execution_count": 22,
      "outputs": [
        {
          "output_type": "stream",
          "text": [
            "[(0, 0.5852942020878993),\n",
            " (1, 0.38405854933668493),\n",
            " (2, 0.5017732999224691),\n",
            " (3, 0.5080878695349914)]\n"
          ],
          "name": "stdout"
        }
      ]
    },
    {
      "cell_type": "markdown",
      "metadata": {
        "id": "h0KbWrqFJ86A"
      },
      "source": [
        "## Running LDA using Bag of Words"
      ]
    },
    {
      "cell_type": "code",
      "metadata": {
        "trusted": true,
        "id": "UJtnESbjJ86A"
      },
      "source": [
        "lda_model = gensim.models.LdaMulticore(bow_corpus, num_topics=10, id2word=dictionary, passes=2, workers=2)"
      ],
      "execution_count": 23,
      "outputs": []
    },
    {
      "cell_type": "code",
      "metadata": {
        "colab": {
          "base_uri": "https://localhost:8080/"
        },
        "id": "TCJNM4AbD6cZ",
        "outputId": "ffccca6a-d95c-415b-ef51-536975dea9ee"
      },
      "source": [
        "for index, score in sorted(lda_model[bow_corpus[5000]], key=lambda tup: -1*tup[1]):\n",
        "    print(\"\\nScore: {}\\t \\nTopic: {}\".format(score, lda_model.print_topic(index, 10)))"
      ],
      "execution_count": 25,
      "outputs": [
        {
          "output_type": "stream",
          "text": [
            "\n",
            "Score: 0.44285327196121216\t \n",
            "Topic: 0.028*\"govern\" + 0.018*\"health\" + 0.017*\"state\" + 0.016*\"chang\" + 0.016*\"coronaviru\" + 0.013*\"hospit\" + 0.013*\"canberra\" + 0.010*\"say\" + 0.010*\"minist\" + 0.010*\"care\"\n",
            "\n",
            "Score: 0.29999372363090515\t \n",
            "Topic: 0.059*\"polic\" + 0.032*\"death\" + 0.027*\"sydney\" + 0.016*\"shoot\" + 0.015*\"miss\" + 0.015*\"investig\" + 0.015*\"arrest\" + 0.014*\"melbourn\" + 0.013*\"royal\" + 0.013*\"scott\"\n",
            "\n",
            "Score: 0.15714284777641296\t \n",
            "Topic: 0.034*\"elect\" + 0.021*\"nation\" + 0.018*\"tasmania\" + 0.015*\"say\" + 0.012*\"tasmanian\" + 0.010*\"darwin\" + 0.010*\"presid\" + 0.009*\"vote\" + 0.009*\"labor\" + 0.009*\"beach\"\n",
            "\n",
            "Score: 0.014291977509856224\t \n",
            "Topic: 0.025*\"coronaviru\" + 0.025*\"china\" + 0.022*\"live\" + 0.021*\"news\" + 0.020*\"market\" + 0.014*\"busi\" + 0.011*\"australian\" + 0.011*\"power\" + 0.010*\"price\" + 0.010*\"drum\"\n",
            "\n",
            "Score: 0.014289580285549164\t \n",
            "Topic: 0.015*\"worker\" + 0.013*\"countri\" + 0.012*\"help\" + 0.012*\"announc\" + 0.011*\"commun\" + 0.011*\"indigen\" + 0.010*\"work\" + 0.010*\"pandem\" + 0.010*\"polit\" + 0.010*\"find\"\n",
            "\n",
            "Score: 0.014285714365541935\t \n",
            "Topic: 0.027*\"donald\" + 0.015*\"attack\" + 0.014*\"kill\" + 0.013*\"school\" + 0.013*\"interview\" + 0.012*\"children\" + 0.012*\"andrew\" + 0.011*\"releas\" + 0.011*\"border\" + 0.011*\"australian\"\n",
            "\n",
            "Score: 0.014285714365541935\t \n",
            "Topic: 0.038*\"trump\" + 0.034*\"queensland\" + 0.033*\"coronaviru\" + 0.027*\"victoria\" + 0.020*\"south\" + 0.018*\"bushfir\" + 0.017*\"coast\" + 0.014*\"hous\" + 0.013*\"covid\" + 0.012*\"crash\"\n",
            "\n",
            "Score: 0.014285714365541935\t \n",
            "Topic: 0.027*\"case\" + 0.027*\"court\" + 0.024*\"covid\" + 0.018*\"face\" + 0.018*\"charg\" + 0.017*\"coronaviru\" + 0.016*\"murder\" + 0.015*\"restrict\" + 0.014*\"jail\" + 0.014*\"trial\"\n",
            "\n",
            "Score: 0.014285714365541935\t \n",
            "Topic: 0.015*\"australia\" + 0.013*\"return\" + 0.013*\"speak\" + 0.012*\"break\" + 0.011*\"game\" + 0.010*\"year\" + 0.010*\"premier\" + 0.010*\"final\" + 0.010*\"citi\" + 0.009*\"leagu\"\n",
            "\n",
            "Score: 0.014285714365541935\t \n",
            "Topic: 0.053*\"australia\" + 0.022*\"world\" + 0.018*\"open\" + 0.018*\"record\" + 0.017*\"die\" + 0.012*\"australian\" + 0.011*\"morrison\" + 0.011*\"take\" + 0.011*\"street\" + 0.010*\"fall\"\n"
          ],
          "name": "stdout"
        }
      ]
    },
    {
      "cell_type": "markdown",
      "metadata": {
        "id": "nWU3tEmSJ86A"
      },
      "source": [
        "## Running LDA using TF-IDF"
      ]
    },
    {
      "cell_type": "code",
      "metadata": {
        "trusted": true,
        "id": "kvPCE54TJ86B"
      },
      "source": [
        "lda_model_tfidf = gensim.models.LdaMulticore(corpus_tfidf, num_topics=10, id2word = dictionary, passes = 2, workers=4)"
      ],
      "execution_count": 26,
      "outputs": []
    },
    {
      "cell_type": "code",
      "metadata": {
        "trusted": true,
        "id": "d6vSi6bsJ86B",
        "colab": {
          "base_uri": "https://localhost:8080/"
        },
        "outputId": "3dda5281-77fd-4191-eb67-6b2f25339c9c"
      },
      "source": [
        "for index, score in sorted(lda_model_tfidf[bow_corpus[4310]], key=lambda tup: -1*tup[1]):\n",
        "    print(\"\\nScore: {}\\t \\nTopic: {}\".format(score, lda_model_tfidf.print_topic(index, 10)))"
      ],
      "execution_count": 28,
      "outputs": [
        {
          "output_type": "stream",
          "text": [
            "\n",
            "Score: 0.5632221698760986\t \n",
            "Topic: 0.009*\"interview\" + 0.007*\"andrew\" + 0.007*\"elect\" + 0.007*\"violenc\" + 0.006*\"updat\" + 0.006*\"financ\" + 0.005*\"liber\" + 0.005*\"coronaviru\" + 0.005*\"domest\" + 0.005*\"inquest\"\n",
            "\n",
            "Score: 0.19738005101680756\t \n",
            "Topic: 0.012*\"countri\" + 0.012*\"rural\" + 0.009*\"hour\" + 0.008*\"govern\" + 0.008*\"news\" + 0.007*\"nation\" + 0.006*\"climat\" + 0.006*\"stori\" + 0.006*\"chang\" + 0.006*\"monday\"\n",
            "\n",
            "Score: 0.15188860893249512\t \n",
            "Topic: 0.014*\"drum\" + 0.013*\"polic\" + 0.009*\"charg\" + 0.009*\"murder\" + 0.008*\"fatal\" + 0.008*\"shoot\" + 0.007*\"driver\" + 0.007*\"crash\" + 0.007*\"sport\" + 0.007*\"arrest\"\n",
            "\n",
            "Score: 0.012503090314567089\t \n",
            "Topic: 0.014*\"coronaviru\" + 0.013*\"market\" + 0.007*\"australian\" + 0.006*\"rise\" + 0.006*\"price\" + 0.006*\"australia\" + 0.006*\"busi\" + 0.006*\"share\" + 0.006*\"queensland\" + 0.006*\"michael\"\n",
            "\n",
            "Score: 0.012501217424869537\t \n",
            "Topic: 0.009*\"guilti\" + 0.009*\"charg\" + 0.009*\"assault\" + 0.008*\"tuesday\" + 0.008*\"court\" + 0.007*\"street\" + 0.007*\"sexual\" + 0.007*\"abus\" + 0.007*\"woman\" + 0.007*\"sentenc\"\n",
            "\n",
            "Score: 0.01250113733112812\t \n",
            "Topic: 0.009*\"kill\" + 0.007*\"northern\" + 0.006*\"crash\" + 0.006*\"dead\" + 0.005*\"social\" + 0.005*\"protest\" + 0.005*\"australia\" + 0.005*\"march\" + 0.005*\"june\" + 0.005*\"korea\"\n",
            "\n",
            "Score: 0.012501135468482971\t \n",
            "Topic: 0.008*\"thursday\" + 0.008*\"christma\" + 0.007*\"age\" + 0.007*\"peter\" + 0.007*\"care\" + 0.006*\"polic\" + 0.006*\"brief\" + 0.006*\"peopl\" + 0.006*\"daniel\" + 0.006*\"novemb\"\n",
            "\n",
            "Score: 0.012501110322773457\t \n",
            "Topic: 0.011*\"scott\" + 0.010*\"morrison\" + 0.010*\"wednesday\" + 0.009*\"news\" + 0.006*\"grand\" + 0.006*\"april\" + 0.006*\"quiz\" + 0.006*\"search\" + 0.005*\"miss\" + 0.005*\"ash\"\n",
            "\n",
            "Score: 0.012501013465225697\t \n",
            "Topic: 0.026*\"trump\" + 0.015*\"donald\" + 0.010*\"coronaviru\" + 0.010*\"covid\" + 0.010*\"royal\" + 0.008*\"commiss\" + 0.007*\"border\" + 0.007*\"bushfir\" + 0.007*\"weather\" + 0.006*\"david\"\n",
            "\n",
            "Score: 0.01250050775706768\t \n",
            "Topic: 0.008*\"australia\" + 0.008*\"leagu\" + 0.008*\"final\" + 0.008*\"world\" + 0.006*\"beat\" + 0.006*\"open\" + 0.005*\"octob\" + 0.005*\"cricket\" + 0.005*\"georg\" + 0.005*\"august\"\n"
          ],
          "name": "stdout"
        }
      ]
    }
  ]
}